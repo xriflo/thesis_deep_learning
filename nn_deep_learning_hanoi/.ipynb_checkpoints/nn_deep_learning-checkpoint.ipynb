{
 "cells": [
  {
   "cell_type": "code",
   "execution_count": 3,
   "metadata": {
    "collapsed": false
   },
   "outputs": [],
   "source": [
    "d = torch.load(\"dataset32x32_alterated.t7\")"
   ]
  },
  {
   "cell_type": "code",
   "execution_count": 4,
   "metadata": {
    "collapsed": false
   },
   "outputs": [
    {
     "ename": "[string \"model = nn.Sequential()...\"]:1: attempt to index global 'nn' (a nil value)\nstack traceback:\n\t[string \"model = nn.Sequential()...\"]:1: in main chunk\n\t[C]: in function 'xpcall'\n\t/home/flori/torch/install/share/lua/5.1/itorch/main.lua:177: in function </home/flori/torch/install/share/lua/5.1/itorch/main.lua:143>\n\t/home/flori/torch/install/share/lua/5.1/lzmq/poller.lua:75: in function 'poll'\n\t/home/flori/torch/install/share/lua/5.1/lzmq/impl/loop.lua:307: in function 'poll'\n\t/home/flori/torch/install/share/lua/5.1/lzmq/impl/loop.lua:325: in function 'sleep_ex'\n\t/home/flori/torch/install/share/lua/5.1/lzmq/impl/loop.lua:370: in function 'start'\n\t/home/flori/torch/install/share/lua/5.1/itorch/main.lua:344: in main chunk\n\t[C]: in function 'require'\n\t[string \"arg={'/home/flori/.ipython/profile_default/se...\"]:1: in main chunk",
     "evalue": "",
     "output_type": "error",
     "traceback": [
      "[string \"model = nn.Sequential()...\"]:1: attempt to index global 'nn' (a nil value)\nstack traceback:\n\t[string \"model = nn.Sequential()...\"]:1: in main chunk\n\t[C]: in function 'xpcall'\n\t/home/flori/torch/install/share/lua/5.1/itorch/main.lua:177: in function </home/flori/torch/install/share/lua/5.1/itorch/main.lua:143>\n\t/home/flori/torch/install/share/lua/5.1/lzmq/poller.lua:75: in function 'poll'\n\t/home/flori/torch/install/share/lua/5.1/lzmq/impl/loop.lua:307: in function 'poll'\n\t/home/flori/torch/install/share/lua/5.1/lzmq/impl/loop.lua:325: in function 'sleep_ex'\n\t/home/flori/torch/install/share/lua/5.1/lzmq/impl/loop.lua:370: in function 'start'\n\t/home/flori/torch/install/share/lua/5.1/itorch/main.lua:344: in main chunk\n\t[C]: in function 'require'\n\t[string \"arg={'/home/flori/.ipython/profile_default/se...\"]:1: in main chunk"
     ]
    }
   ],
   "source": [
    "require 'nn'\n",
    "model = nn.Sequential()\n",
    "model:add(nn.SpatialConvolutionMM(3, 8, 5, 5))\n",
    "model:forward(d.X[1])\n",
    "itorch.image(model.output)"
   ]
  },
  {
   "cell_type": "code",
   "execution_count": null,
   "metadata": {
    "collapsed": true
   },
   "outputs": [],
   "source": []
  }
 ],
 "metadata": {
  "kernelspec": {
   "display_name": "iTorch",
   "language": "lua",
   "name": "itorch"
  },
  "language_info": {
   "name": "lua",
   "version": "20100"
  }
 },
 "nbformat": 4,
 "nbformat_minor": 0
}
