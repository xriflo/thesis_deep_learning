{
 "cells": [
  {
   "cell_type": "code",
   "execution_count": 3,
   "metadata": {
    "collapsed": false
   },
   "outputs": [],
   "source": [
    "d = torch.load(\"dataset32x32_alterated.t7\")"
   ]
  },
  {
   "cell_type": "code",
   "execution_count": 14,
   "metadata": {
    "collapsed": false
   },
   "outputs": [
    {
     "ename": "/home/flori/torch/install/share/lua/5.1/nn/Sequential.lua:44: Given input size: (16x1x1). Calculated output size: (16x-3x-3). Output size is too small at /home/flori/torch/extra/nn/generic/SpatialConvolutionMM.c:199\nstack traceback:\n\t[C]: in function 'updateOutput'\n\t/home/flori/torch/install/share/lua/5.1/nn/Sequential.lua:44: in function 'forward'\n\t[string \"require 'nn'...\"]:16: in main chunk\n\t[C]: in function 'xpcall'\n\t/home/flori/torch/install/share/lua/5.1/itorch/main.lua:177: in function </home/flori/torch/install/share/lua/5.1/itorch/main.lua:143>\n\t/home/flori/torch/install/share/lua/5.1/lzmq/poller.lua:75: in function 'poll'\n\t/home/flori/torch/install/share/lua/5.1/lzmq/impl/loop.lua:307: in function 'poll'\n\t/home/flori/torch/install/share/lua/5.1/lzmq/impl/loop.lua:325: in function 'sleep_ex'\n\t/home/flori/torch/install/share/lua/5.1/lzmq/impl/loop.lua:370: in function 'start'\n\t/home/flori/torch/install/share/lua/5.1/itorch/main.lua:344: in main chunk\n\t[C]: in function 'require'\n\t[string \"arg={'/home/flori/.ipython/profile_default/se...\"]:1: in main chunk",
     "evalue": "",
     "output_type": "error",
     "traceback": [
      "/home/flori/torch/install/share/lua/5.1/nn/Sequential.lua:44: Given input size: (16x1x1). Calculated output size: (16x-3x-3). Output size is too small at /home/flori/torch/extra/nn/generic/SpatialConvolutionMM.c:199\nstack traceback:\n\t[C]: in function 'updateOutput'\n\t/home/flori/torch/install/share/lua/5.1/nn/Sequential.lua:44: in function 'forward'\n\t[string \"require 'nn'...\"]:16: in main chunk\n\t[C]: in function 'xpcall'\n\t/home/flori/torch/install/share/lua/5.1/itorch/main.lua:177: in function </home/flori/torch/install/share/lua/5.1/itorch/main.lua:143>\n\t/home/flori/torch/install/share/lua/5.1/lzmq/poller.lua:75: in function 'poll'\n\t/home/flori/torch/install/share/lua/5.1/lzmq/impl/loop.lua:307: in function 'poll'\n\t/home/flori/torch/install/share/lua/5.1/lzmq/impl/loop.lua:325: in function 'sleep_ex'\n\t/home/flori/torch/install/share/lua/5.1/lzmq/impl/loop.lua:370: in function 'start'\n\t/home/flori/torch/install/share/lua/5.1/itorch/main.lua:344: in main chunk\n\t[C]: in function 'require'\n\t[string \"arg={'/home/flori/.ipython/profile_default/se...\"]:1: in main chunk"
     ]
    }
   ],
   "source": [
    "require 'nn'\n",
    "model = nn.Sequential()\n",
    "model:add(nn.SpatialConvolutionMM(3, 8, 5, 5))\n",
    "model:add(nn.SpatialSubSampling(8, 2, 2, 2, 2))\n",
    "model:add(nn.ReLU())\n",
    "model:add(nn.SpatialSubSampling(8, 2, 2, 2, 2))\n",
    "model:add(nn.SpatialConvolutionMM(8, 16, 5, 5))\n",
    "model:add(nn.ReLU())\n",
    "model:add(nn.SpatialSubSampling(16, 2, 2, 2, 2))\n",
    "model:add(nn.SpatialConvolutionMM(16, 32, 5, 5))\n",
    "model:add(nn.Reshape(32))\n",
    "model:add(nn.Linear(32, 16))\n",
    "model:add(nn.ReLU())\n",
    "model:add(nn.Linear(16, 4))\n",
    "\n",
    "model:forward(d.X[1]:double())\n",
    "itorch.image(model.output)"
   ]
  },
  {
   "cell_type": "code",
   "execution_count": null,
   "metadata": {
    "collapsed": true
   },
   "outputs": [],
   "source": []
  }
 ],
 "metadata": {
  "kernelspec": {
   "display_name": "iTorch",
   "language": "lua",
   "name": "itorch"
  },
  "language_info": {
   "name": "lua",
   "version": "20100"
  }
 },
 "nbformat": 4,
 "nbformat_minor": 0
}
