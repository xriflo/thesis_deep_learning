{
 "cells": [
  {
   "cell_type": "code",
   "execution_count": 10,
   "metadata": {
    "collapsed": false
   },
   "outputs": [
    {
     "data": {
      "text/plain": [
       "UP = 0,0090174167711699\t\n",
       "DOWN = 0,011234698794392\t\n",
       "LEFT = 0,0099343449075615\t\n",
       "RIGHT = 0,010025088848919\t\n"
      ]
     },
     "execution_count": 10,
     "metadata": {},
     "output_type": "execute_result"
    },
    {
     "data": {
      "image/png": "[encoded data removed]",
      "text/plain": [
       "Console does not support images"
      ]
     },
     "metadata": {
      "image/png": {
       "height": 32,
       "width": 32
      }
     },
     "output_type": "display_data"
    },
    {
     "data": {
      "text/plain": [
       "\n",
       "\t\n",
       "UP = 0,00056990102889999\t\n",
       "DOWN = 0,00066100081278713\t\n",
       "LEFT = 0,00062795866136812\t\n",
       "RIGHT = 0,00059059318534696\t\n"
      ]
     },
     "execution_count": 10,
     "metadata": {},
     "output_type": "execute_result"
    },
    {
     "data": {
      "text/plain": [
       "\n",
       "\t\n",
       "UP = 35,301988968597\t\n",
       "DOWN = 53,568376311479\t"
      ]
     },
     "execution_count": 10,
     "metadata": {},
     "output_type": "execute_result"
    },
    {
     "data": {
      "image/png": "[encoded data removed]",
      "text/plain": [
       "Console does not support images"
      ]
     },
     "metadata": {
      "image/png": {
       "height": 32,
       "width": 32
      }
     },
     "output_type": "display_data"
    },
    {
     "data": {
      "text/plain": [
       "\n",
       "LEFT = 33,434400471167\t\n",
       "RIGHT = 29,573894563776\t\n"
      ]
     },
     "execution_count": 10,
     "metadata": {},
     "output_type": "execute_result"
    },
    {
     "data": {
      "image/png": "[encoded data removed]",
      "text/plain": [
       "Console does not support images"
      ]
     },
     "metadata": {
      "image/png": {
       "height": 32,
       "width": 32
      }
     },
     "output_type": "display_data"
    },
    {
     "data": {
      "text/plain": [
       "\n",
       "\t\n",
       "UP = 0,095157927687053\t\n",
       "DOWN = 0,099394205942405\t\n",
       "LEFT = 0,11126284425717\t\n",
       "RIGHT = 0,11837206329265\t\n"
      ]
     },
     "execution_count": 10,
     "metadata": {},
     "output_type": "execute_result"
    },
    {
     "data": {
      "text/plain": [
       "\n",
       "\t\n",
       "UP = 27,61430972452\t\n",
       "DOWN = 27,694778098851\t\n",
       "LEFT = 27,151604768015\t\n",
       "RIGHT = 30,735686772502\t\n"
      ]
     },
     "execution_count": 10,
     "metadata": {},
     "output_type": "execute_result"
    },
    {
     "data": {
      "image/png": "[encoded data removed]",
      "text/plain": [
       "Console does not support images"
      ]
     },
     "metadata": {
      "image/png": {
       "height": 32,
       "width": 32
      }
     },
     "output_type": "display_data"
    },
    {
     "data": {
      "text/plain": [
       "\n",
       "\t\n",
       "UP = 0,0078595126935594\t\n"
      ]
     },
     "execution_count": 10,
     "metadata": {},
     "output_type": "execute_result"
    },
    {
     "data": {
      "image/png": "[encoded data removed]",
      "text/plain": [
       "Console does not support images"
      ]
     },
     "metadata": {
      "image/png": {
       "height": 32,
       "width": 32
      }
     },
     "output_type": "display_data"
    },
    {
     "data": {
      "text/plain": [
       "DOWN = 0,0082299669168321\t\n",
       "LEFT = 0,0082613693782706\t\n",
       "RIGHT = 0,0082102903765204\t\n"
      ]
     },
     "execution_count": 10,
     "metadata": {},
     "output_type": "execute_result"
    },
    {
     "data": {
      "image/png": "[encoded data removed]",
      "text/plain": [
       "Console does not support images"
      ]
     },
     "metadata": {
      "image/png": {
       "height": 32,
       "width": 32
      }
     },
     "output_type": "display_data"
    },
    {
     "data": {
      "text/plain": [
       "\n",
       "\t\n",
       "UP = 12,409178140862\t\n",
       "DOWN = 10,624420876622\t\n",
       "LEFT = 11,073067834455\t\n",
       "RIGHT = 7,3899582051154\t\n"
      ]
     },
     "execution_count": 10,
     "metadata": {},
     "output_type": "execute_result"
    },
    {
     "data": {
      "image/png": "[encoded data removed]",
      "text/plain": [
       "Console does not support images"
      ]
     },
     "metadata": {
      "image/png": {
       "height": 32,
       "width": 32
      }
     },
     "output_type": "display_data"
    },
    {
     "data": {
      "text/plain": [
       "\n",
       "\t\n"
      ]
     },
     "execution_count": 10,
     "metadata": {},
     "output_type": "execute_result"
    },
    {
     "data": {
      "text/plain": [
       "UP = 66,543146754562\t\n",
       "DOWN = 64,573456049727\t\n",
       "LEFT = 64,175429113438\t\n",
       "RIGHT = 69,833729609375\t\n"
      ]
     },
     "execution_count": 10,
     "metadata": {},
     "output_type": "execute_result"
    },
    {
     "data": {
      "image/png": "[encoded data removed]",
      "text/plain": [
       "Console does not support images"
      ]
     },
     "metadata": {
      "image/png": {
       "height": 32,
       "width": 32
      }
     },
     "output_type": "display_data"
    },
    {
     "data": {
      "text/plain": [
       "\n",
       "\t\n",
       "UP = 48,767497911552\t\n",
       "DOWN = 45,267646828094\t\n",
       "LEFT = 45,03954944255\t\n",
       "RIGHT = 43,521084488405\t\n"
      ]
     },
     "execution_count": 10,
     "metadata": {},
     "output_type": "execute_result"
    },
    {
     "data": {
      "image/png": "[encoded data removed]",
      "text/plain": [
       "Console does not support images"
      ]
     },
     "metadata": {
      "image/png": {
       "height": 32,
       "width": 32
      }
     },
     "output_type": "display_data"
    },
    {
     "data": {
      "text/plain": [
       "\n",
       "\t\n",
       "UP = 0,016561769388513\t\n",
       "DOWN = 0,016056543914023\t\n",
       "LEFT = 0,030710551977744\t\n",
       "RIGHT = 0,0086368322860267\t\n"
      ]
     },
     "execution_count": 10,
     "metadata": {},
     "output_type": "execute_result"
    },
    {
     "data": {
      "image/png": "[encoded data removed]",
      "text/plain": [
       "Console does not support images"
      ]
     },
     "metadata": {
      "image/png": {
       "height": 32,
       "width": 32
      }
     },
     "output_type": "display_data"
    },
    {
     "data": {
      "text/plain": [
       "\n",
       "\t\n",
       "UP = 0,010865466767124\t\n"
      ]
     },
     "execution_count": 10,
     "metadata": {},
     "output_type": "execute_result"
    },
    {
     "data": {
      "text/plain": [
       "DOWN = 0,0013265446618709\t\n",
       "LEFT = 0,0025539951052279\t\n",
       "RIGHT = 0,0042094282412011\t\n"
      ]
     },
     "execution_count": 10,
     "metadata": {},
     "output_type": "execute_result"
    },
    {
     "data": {
      "text/plain": [
       "\n",
       "\t\n",
       "UP = 0,0036904289401151\t\n",
       "DOWN = 0,0033425889149395\t\n",
       "LEFT = 0,0038059378342384\t\n",
       "RIGHT = 0,00312339457197\t\n"
      ]
     },
     "execution_count": 10,
     "metadata": {},
     "output_type": "execute_result"
    },
    {
     "data": {
      "image/png": "[encoded data removed]",
      "text/plain": [
       "Console does not support images"
      ]
     },
     "metadata": {
      "image/png": {
       "height": 32,
       "width": 32
      }
     },
     "output_type": "display_data"
    },
    {
     "data": {
      "image/png": "[encoded data removed]",
      "text/plain": [
       "Console does not support images"
      ]
     },
     "metadata": {
      "image/png": {
       "height": 32,
       "width": 32
      }
     },
     "output_type": "display_data"
    },
    {
     "data": {
      "text/plain": [
       "\n",
       "\t\n",
       "UP = 3,0777797852248\t\n",
       "DOWN = 2,1093028701602\t\n"
      ]
     },
     "execution_count": 10,
     "metadata": {},
     "output_type": "execute_result"
    },
    {
     "data": {
      "text/plain": [
       "LEFT = 1,727152442663\t\n",
       "RIGHT = 2,5039845177535\t\n"
      ]
     },
     "execution_count": 10,
     "metadata": {},
     "output_type": "execute_result"
    },
    {
     "data": {
      "text/plain": [
       "\n",
       "\t\n",
       "UP = 24,847131632847\t\n",
       "DOWN = 25,484613380016\t\n",
       "LEFT = 27,738957312183\t\n",
       "RIGHT = 25,10362624156\t\n"
      ]
     },
     "execution_count": 10,
     "metadata": {},
     "output_type": "execute_result"
    },
    {
     "data": {
      "image/png": "[encoded data removed]",
      "text/plain": [
       "Console does not support images"
      ]
     },
     "metadata": {
      "image/png": {
       "height": 32,
       "width": 32
      }
     },
     "output_type": "display_data"
    },
    {
     "data": {
      "text/plain": [
       "\n",
       "\t\n",
       "UP = 24,139321391975\t\n",
       "DOWN = 25,694420389845\t\n",
       "LEFT = 28,840715573063\t\n",
       "RIGHT = 32,178091392033\t\n"
      ]
     },
     "execution_count": 10,
     "metadata": {},
     "output_type": "execute_result"
    },
    {
     "data": {
      "image/png": "[encoded data removed]",
      "text/plain": [
       "Console does not support images"
      ]
     },
     "metadata": {
      "image/png": {
       "height": 32,
       "width": 32
      }
     },
     "output_type": "display_data"
    },
    {
     "data": {
      "text/plain": [
       "\n",
       "\t\n",
       "UP = 42,550935541142\t\n",
       "DOWN = 42,684698594453\t\n",
       "LEFT = 46,329123015975\t\n",
       "RIGHT = 41,863480151771\t\n"
      ]
     },
     "execution_count": 10,
     "metadata": {},
     "output_type": "execute_result"
    },
    {
     "data": {
      "image/png": "[encoded data removed]",
      "text/plain": [
       "Console does not support images"
      ]
     },
     "metadata": {
      "image/png": {
       "height": 32,
       "width": 32
      }
     },
     "output_type": "display_data"
    },
    {
     "data": {
      "image/png": "[encoded data removed]",
      "text/plain": [
       "Console does not support images"
      ]
     },
     "metadata": {
      "image/png": {
       "height": 32,
       "width": 32
      }
     },
     "output_type": "display_data"
    },
    {
     "data": {
      "text/plain": [
       "\n",
       "\t\n",
       "UP = 21,31091099813\t\n",
       "DOWN = 9,7541139964336\t\n",
       "LEFT = 7,6157387025717\t\n",
       "RIGHT = 8,7877494247236\t\n"
      ]
     },
     "execution_count": 10,
     "metadata": {},
     "output_type": "execute_result"
    },
    {
     "data": {
      "image/png": "[encoded data removed]",
      "text/plain": [
       "Console does not support images"
      ]
     },
     "metadata": {
      "image/png": {
       "height": 32,
       "width": 32
      }
     },
     "output_type": "display_data"
    },
    {
     "data": {
      "text/plain": [
       "\n",
       "\t\n",
       "UP = 0,00011832901262773\t\n"
      ]
     },
     "execution_count": 10,
     "metadata": {},
     "output_type": "execute_result"
    },
    {
     "data": {
      "text/plain": [
       "DOWN = 0,00015985679032714\t\n",
       "LEFT = 0,00012943289657243\t\n",
       "RIGHT = 0,00015501868741258\t\n"
      ]
     },
     "execution_count": 10,
     "metadata": {},
     "output_type": "execute_result"
    },
    {
     "data": {
      "image/png": "[encoded data removed]",
      "text/plain": [
       "Console does not support images"
      ]
     },
     "metadata": {
      "image/png": {
       "height": 32,
       "width": 32
      }
     },
     "output_type": "display_data"
    },
    {
     "data": {
      "text/plain": [
       "\n",
       "\t\n",
       "UP = 27,904809358039\t\n",
       "DOWN = 35,527291253237\t\n",
       "LEFT = 26,720112787526\t\n",
       "RIGHT = 45,445226243573\t\n"
      ]
     },
     "execution_count": 10,
     "metadata": {},
     "output_type": "execute_result"
    },
    {
     "data": {
      "image/png": "[encoded data removed]",
      "text/plain": [
       "Console does not support images"
      ]
     },
     "metadata": {
      "image/png": {
       "height": 32,
       "width": 32
      }
     },
     "output_type": "display_data"
    },
    {
     "data": {
      "text/plain": [
       "\n",
       "\t\n",
       "UP = 5,9962878328657\t\n",
       "DOWN = 8,4772698913223\t\n",
       "LEFT = 10,266919985729\t\n",
       "RIGHT = 6,5061626377789\t\n"
      ]
     },
     "execution_count": 10,
     "metadata": {},
     "output_type": "execute_result"
    },
    {
     "data": {
      "image/png": "[encoded data removed]",
      "text/plain": [
       "Console does not support images"
      ]
     },
     "metadata": {
      "image/png": {
       "height": 32,
       "width": 32
      }
     },
     "output_type": "display_data"
    },
    {
     "data": {
      "text/plain": [
       "\n",
       "\t\n",
       "UP = 0,05198525394359\t\n",
       "DOWN = 0,070901832535937\t\n",
       "LEFT = 0,059482166487386\t\n",
       "RIGHT = 0,057495958573272\t\n"
      ]
     },
     "execution_count": 10,
     "metadata": {},
     "output_type": "execute_result"
    },
    {
     "data": {
      "image/png": "[encoded data removed]",
      "text/plain": [
       "Console does not support images"
      ]
     },
     "metadata": {
      "image/png": {
       "height": 32,
       "width": 32
      }
     },
     "output_type": "display_data"
    },
    {
     "data": {
      "text/plain": [
       "\n",
       "\t\n",
       "UP = 32,35335449737\t\n",
       "DOWN = 29,063482870546\t\n",
       "LEFT = 27,999696008151\t\n",
       "RIGHT = 29,326733893682\t\n"
      ]
     },
     "execution_count": 10,
     "metadata": {},
     "output_type": "execute_result"
    },
    {
     "data": {
      "image/png": "[encoded data removed]",
      "text/plain": [
       "Console does not support images"
      ]
     },
     "metadata": {
      "image/png": {
       "height": 32,
       "width": 32
      }
     },
     "output_type": "display_data"
    },
    {
     "data": {
      "text/plain": [
       "\n",
       "\t\n",
       "UP = 21,298623811372\t\n",
       "DOWN = 25,60367020655\t\n",
       "LEFT = 27,28921838075\t\n",
       "RIGHT = 18,762093924742\t\n"
      ]
     },
     "execution_count": 10,
     "metadata": {},
     "output_type": "execute_result"
    },
    {
     "data": {
      "image/png": "[encoded data removed]",
      "text/plain": [
       "Console does not support images"
      ]
     },
     "metadata": {
      "image/png": {
       "height": 32,
       "width": 32
      }
     },
     "output_type": "display_data"
    },
    {
     "data": {
      "text/plain": [
       "\n",
       "\t\n",
       "UP = 1,9654415416275\t\n",
       "DOWN = 2,4542171650914\t\n",
       "LEFT = 3,1066025178357\t\n",
       "RIGHT = 2,2346584392476\t\n"
      ]
     },
     "execution_count": 10,
     "metadata": {},
     "output_type": "execute_result"
    },
    {
     "data": {
      "image/png": "[encoded data removed]",
      "text/plain": [
       "Console does not support images"
      ]
     },
     "metadata": {
      "image/png": {
       "height": 32,
       "width": 32
      }
     },
     "output_type": "display_data"
    },
    {
     "data": {
      "text/plain": [
       "\n",
       "\t\n",
       "UP = 45,328158175218\t\n",
       "DOWN = 62,344019571759\t\n",
       "LEFT = 47,296200910602\t\n",
       "RIGHT = 42,637012665505\t\n"
      ]
     },
     "execution_count": 10,
     "metadata": {},
     "output_type": "execute_result"
    },
    {
     "data": {
      "image/png": "[encoded data removed]",
      "text/plain": [
       "Console does not support images"
      ]
     },
     "metadata": {
      "image/png": {
       "height": 32,
       "width": 32
      }
     },
     "output_type": "display_data"
    },
    {
     "data": {
      "text/plain": [
       "\n",
       "\t\n",
       "UP = 0,0017936324224056\t\n",
       "DOWN = 0,0017327003834296\t\n",
       "LEFT = 0,001954875149995\t\n",
       "RIGHT = 0,001211746713682\t\n"
      ]
     },
     "execution_count": 10,
     "metadata": {},
     "output_type": "execute_result"
    },
    {
     "data": {
      "image/png": "[encoded data removed]",
      "text/plain": [
       "Console does not support images"
      ]
     },
     "metadata": {
      "image/png": {
       "height": 32,
       "width": 32
      }
     },
     "output_type": "display_data"
    },
    {
     "data": {
      "text/plain": [
       "\n",
       "\t\n",
       "UP = 22,426958195967\t\n",
       "DOWN = 20,401235044405\t\n",
       "LEFT = 19,624158055479\t\n",
       "RIGHT = 26,3929559837\t\n"
      ]
     },
     "execution_count": 10,
     "metadata": {},
     "output_type": "execute_result"
    },
    {
     "data": {
      "image/png": "[encoded data removed]",
      "text/plain": [
       "Console does not support images"
      ]
     },
     "metadata": {
      "image/png": {
       "height": 32,
       "width": 32
      }
     },
     "output_type": "display_data"
    },
    {
     "data": {
      "text/plain": [
       "\n",
       "\t\n",
       "UP = 47,561172546143\t\n",
       "DOWN = 48,095759432396\t\n",
       "LEFT = 51,33420832795\t\n",
       "RIGHT = 46,654237796911\t\n"
      ]
     },
     "execution_count": 10,
     "metadata": {},
     "output_type": "execute_result"
    },
    {
     "data": {
      "image/png": "[encoded data removed]",
      "text/plain": [
       "Console does not support images"
      ]
     },
     "metadata": {
      "image/png": {
       "height": 32,
       "width": 32
      }
     },
     "output_type": "display_data"
    },
    {
     "data": {
      "text/plain": [
       "\n",
       "\t\n",
       "UP = 33,523540563629\t\n",
       "DOWN = 31,088759171017\t\n",
       "LEFT = 38,46043919848\t\n",
       "RIGHT = 36,184882771135\t\n"
      ]
     },
     "execution_count": 10,
     "metadata": {},
     "output_type": "execute_result"
    },
    {
     "data": {
      "image/png": "[encoded data removed]",
      "text/plain": [
       "Console does not support images"
      ]
     },
     "metadata": {
      "image/png": {
       "height": 32,
       "width": 32
      }
     },
     "output_type": "display_data"
    },
    {
     "data": {
      "text/plain": [
       "\n",
       "\t\n",
       "UP = 0,0045026353788265\t\n",
       "DOWN = 0,003940079371048\t\n",
       "LEFT = 0,0038208532606398\t\n",
       "RIGHT = 0,0034817422554459\t\n"
      ]
     },
     "execution_count": 10,
     "metadata": {},
     "output_type": "execute_result"
    },
    {
     "data": {
      "image/png": "[encoded data removed]",
      "text/plain": [
       "Console does not support images"
      ]
     },
     "metadata": {
      "image/png": {
       "height": 32,
       "width": 32
      }
     },
     "output_type": "display_data"
    },
    {
     "data": {
      "text/plain": [
       "\n",
       "\t\n",
       "UP = 31,788594463349\t\n",
       "DOWN = 20,832260900749\t\n",
       "LEFT = 16,533857987169\t\n",
       "RIGHT = 17,029290349291\t\n"
      ]
     },
     "execution_count": 10,
     "metadata": {},
     "output_type": "execute_result"
    },
    {
     "data": {
      "image/png": "[encoded data removed]",
      "text/plain": [
       "Console does not support images"
      ]
     },
     "metadata": {
      "image/png": {
       "height": 32,
       "width": 32
      }
     },
     "output_type": "display_data"
    },
    {
     "data": {
      "text/plain": [
       "\n",
       "\t\n",
       "UP = 0,0053489075794839\t\n",
       "DOWN = 0,0064562004048501\t\n",
       "LEFT = 0,0064078665605461\t\n",
       "RIGHT = 0,0052828373172373\t"
      ]
     },
     "execution_count": 10,
     "metadata": {},
     "output_type": "execute_result"
    },
    {
     "data": {
      "text/plain": [
       "\n"
      ]
     },
     "execution_count": 10,
     "metadata": {},
     "output_type": "execute_result"
    },
    {
     "data": {
      "text/plain": [
       "\n",
       "\t\n",
       "UP = 39,721431845821\t\n",
       "DOWN = 36,254181089514\t\n",
       "LEFT = 36,028517710178\t\n",
       "RIGHT = 34,299343628402\t\n"
      ]
     },
     "execution_count": 10,
     "metadata": {},
     "output_type": "execute_result"
    },
    {
     "data": {
      "image/png": "[encoded data removed]",
      "text/plain": [
       "Console does not support images"
      ]
     },
     "metadata": {
      "image/png": {
       "height": 32,
       "width": 32
      }
     },
     "output_type": "display_data"
    },
    {
     "data": {
      "image/png": "[encoded data removed]",
      "text/plain": [
       "Console does not support images"
      ]
     },
     "metadata": {
      "image/png": {
       "height": 32,
       "width": 32
      }
     },
     "output_type": "display_data"
    },
    {
     "data": {
      "text/plain": [
       "\n",
       "\t\n",
       "UP = 0,15221729472553\t\n",
       "DOWN = 0,11166508116295\t\n",
       "LEFT = 0,1492774086921\t\n",
       "RIGHT = 0,17845453792407\t\n"
      ]
     },
     "execution_count": 10,
     "metadata": {},
     "output_type": "execute_result"
    },
    {
     "data": {
      "image/png": "[encoded data removed]",
      "text/plain": [
       "Console does not support images"
      ]
     },
     "metadata": {
      "image/png": {
       "height": 32,
       "width": 32
      }
     },
     "output_type": "display_data"
    },
    {
     "data": {
      "text/plain": [
       "\n",
       "\t\n",
       "UP = 0,085656868035538\t\n",
       "DOWN = 0,079007415244512\t\n",
       "LEFT = 0,18851907887566\t\n",
       "RIGHT = 0,069184506084471\t\n"
      ]
     },
     "execution_count": 10,
     "metadata": {},
     "output_type": "execute_result"
    },
    {
     "data": {
      "image/png": "[encoded data removed]",
      "text/plain": [
       "Console does not support images"
      ]
     },
     "metadata": {
      "image/png": {
       "height": 32,
       "width": 32
      }
     },
     "output_type": "display_data"
    },
    {
     "data": {
      "text/plain": [
       "\n",
       "\t\n",
       "UP = 38,02971175706\t\n",
       "DOWN = 38,564063827743\t\n",
       "LEFT = 41,812033521917\t\n",
       "RIGHT = 35,72947330656\t\n"
      ]
     },
     "execution_count": 10,
     "metadata": {},
     "output_type": "execute_result"
    },
    {
     "data": {
      "image/png": "[encoded data removed]",
      "text/plain": [
       "Console does not support images"
      ]
     },
     "metadata": {
      "image/png": {
       "height": 32,
       "width": 32
      }
     },
     "output_type": "display_data"
    },
    {
     "data": {
      "text/plain": [
       "\n",
       "\t\n",
       "UP = 0,0054269366787168\t\n",
       "DOWN = 0,004572002356565\t\n",
       "LEFT = 0,0037831825536568\t\n",
       "RIGHT = 0,0043011878833692\t\n"
      ]
     },
     "execution_count": 10,
     "metadata": {},
     "output_type": "execute_result"
    },
    {
     "data": {
      "image/png": "[encoded data removed]",
      "text/plain": [
       "Console does not support images"
      ]
     },
     "metadata": {
      "image/png": {
       "height": 32,
       "width": 32
      }
     },
     "output_type": "display_data"
    },
    {
     "data": {
      "text/plain": [
       "\n",
       "\t\n",
       "UP = 1,8121682676874\t\n",
       "DOWN = 1,8905640900073\t\n",
       "LEFT = 1,3279580313721\t\n",
       "RIGHT = 1,6442673933001\t\n"
      ]
     },
     "execution_count": 10,
     "metadata": {},
     "output_type": "execute_result"
    },
    {
     "data": {
      "image/png": "[encoded data removed]",
      "text/plain": [
       "Console does not support images"
      ]
     },
     "metadata": {
      "image/png": {
       "height": 32,
       "width": 32
      }
     },
     "output_type": "display_data"
    },
    {
     "data": {
      "text/plain": [
       "\n",
       "\t\n",
       "UP = 0,00050211428370156\t\n",
       "DOWN = 0,00048162862314554\t\n",
       "LEFT = 0,00049413146693361\t\n",
       "RIGHT = 0,00049769672719931\t\n"
      ]
     },
     "execution_count": 10,
     "metadata": {},
     "output_type": "execute_result"
    },
    {
     "data": {
      "text/plain": [
       "\n",
       "\t\n",
       "UP = 90,785729171546\t\n",
       "DOWN = 89,651427130593\t\n",
       "LEFT = 95\t\n",
       "RIGHT = 88,87389211769\t\n"
      ]
     },
     "execution_count": 10,
     "metadata": {},
     "output_type": "execute_result"
    },
    {
     "data": {
      "image/png": "[encoded data removed]",
      "text/plain": [
       "Console does not support images"
      ]
     },
     "metadata": {
      "image/png": {
       "height": 32,
       "width": 32
      }
     },
     "output_type": "display_data"
    },
    {
     "data": {
      "image/png": "[encoded data removed]",
      "text/plain": [
       "Console does not support images"
      ]
     },
     "metadata": {
      "image/png": {
       "height": 32,
       "width": 32
      }
     },
     "output_type": "display_data"
    },
    {
     "data": {
      "text/plain": [
       "\n",
       "\t\n",
       "UP = 41,996231934057\t\n",
       "DOWN = 39,797752950557\t\n",
       "LEFT = 40,211603176174\t\n",
       "RIGHT = 45,030812240945\t\n"
      ]
     },
     "execution_count": 10,
     "metadata": {},
     "output_type": "execute_result"
    },
    {
     "data": {
      "image/png": "[encoded data removed]",
      "text/plain": [
       "Console does not support images"
      ]
     },
     "metadata": {
      "image/png": {
       "height": 32,
       "width": 32
      }
     },
     "output_type": "display_data"
    },
    {
     "data": {
      "text/plain": [
       "\n",
       "\t\n",
       "UP = 0,039647168491753\t\n",
       "DOWN = 0,039783540916304\t\n",
       "LEFT = 0,034552165779903\t\n",
       "RIGHT = 0,029231510446887\t\n"
      ]
     },
     "execution_count": 10,
     "metadata": {},
     "output_type": "execute_result"
    },
    {
     "data": {
      "image/png": "[encoded data removed]",
      "text/plain": [
       "Console does not support images"
      ]
     },
     "metadata": {
      "image/png": {
       "height": 32,
       "width": 32
      }
     },
     "output_type": "display_data"
    },
    {
     "data": {
      "text/plain": [
       "\n",
       "\t\n",
       "UP = 0,24734940784956\t\n",
       "DOWN = 0,22295182538852\t\n",
       "LEFT = 0,2952469811847\t\n",
       "RIGHT = 0,30246609590131\t\n"
      ]
     },
     "execution_count": 10,
     "metadata": {},
     "output_type": "execute_result"
    },
    {
     "data": {
      "text/plain": [
       "\n",
       "\t\n",
       "UP = 0,033349880720942\t\n",
       "DOWN = 0,045933753270154\t\n",
       "LEFT = 0,037672037389965\t\n",
       "RIGHT = 0,038685924616047\t\n"
      ]
     },
     "execution_count": 10,
     "metadata": {},
     "output_type": "execute_result"
    },
    {
     "data": {
      "image/png": "[encoded data removed]",
      "text/plain": [
       "Console does not support images"
      ]
     },
     "metadata": {
      "image/png": {
       "height": 32,
       "width": 32
      }
     },
     "output_type": "display_data"
    },
    {
     "data": {
      "image/png": "[encoded data removed]",
      "text/plain": [
       "Console does not support images"
      ]
     },
     "metadata": {
      "image/png": {
       "height": 32,
       "width": 32
      }
     },
     "output_type": "display_data"
    },
    {
     "data": {
      "text/plain": [
       "\n",
       "\t\n",
       "UP = 2,3697446546679\t\n",
       "DOWN = 2,4079269045881\t\n",
       "LEFT = 2,5088467947229\t\n",
       "RIGHT = 2,5415009435504\t\n"
      ]
     },
     "execution_count": 10,
     "metadata": {},
     "output_type": "execute_result"
    },
    {
     "data": {
      "image/png": "[encoded data removed]",
      "text/plain": [
       "Console does not support images"
      ]
     },
     "metadata": {
      "image/png": {
       "height": 32,
       "width": 32
      }
     },
     "output_type": "display_data"
    },
    {
     "data": {
      "text/plain": [
       "\n",
       "\t\n",
       "UP = 82,907524654708\t\n",
       "DOWN = 79,59656553873\t\n",
       "LEFT = 85,189349406661\t\n"
      ]
     },
     "execution_count": 10,
     "metadata": {},
     "output_type": "execute_result"
    },
    {
     "data": {
      "text/plain": [
       "RIGHT = 78,982951080929\t\n"
      ]
     },
     "execution_count": 10,
     "metadata": {},
     "output_type": "execute_result"
    },
    {
     "data": {
      "image/png": "[encoded data removed]",
      "text/plain": [
       "Console does not support images"
      ]
     },
     "metadata": {
      "image/png": {
       "height": 32,
       "width": 32
      }
     },
     "output_type": "display_data"
    },
    {
     "data": {
      "text/plain": [
       "\n",
       "\t\n",
       "UP = 0,0025831394749103\t\n",
       "DOWN = 0,0025664763962969\t\n",
       "LEFT = 0,0034143586906914\t\n",
       "RIGHT = 0,0025549060064164\t\n"
      ]
     },
     "execution_count": 10,
     "metadata": {},
     "output_type": "execute_result"
    },
    {
     "data": {
      "text/plain": [
       "\n",
       "\t\n",
       "UP = 10,0560708734\t\n",
       "DOWN = 8,8164799446889\t\n",
       "LEFT = 8,3773158322938\t\n",
       "RIGHT = 18,032357441872\t\n"
      ]
     },
     "execution_count": 10,
     "metadata": {},
     "output_type": "execute_result"
    },
    {
     "data": {
      "image/png": "[encoded data removed]",
      "text/plain": [
       "Console does not support images"
      ]
     },
     "metadata": {
      "image/png": {
       "height": 32,
       "width": 32
      }
     },
     "output_type": "display_data"
    },
    {
     "data": {
      "image/png": "[encoded data removed]",
      "text/plain": [
       "Console does not support images"
      ]
     },
     "metadata": {
      "image/png": {
       "height": 32,
       "width": 32
      }
     },
     "output_type": "display_data"
    },
    {
     "data": {
      "text/plain": [
       "\n",
       "\t\n",
       "UP = 0,010368067105567\t\n",
       "DOWN = 0,01300719355974\t\n",
       "LEFT = 0,0089812849758457\t\n",
       "RIGHT = 0,0094633921683734\t\n"
      ]
     },
     "execution_count": 10,
     "metadata": {},
     "output_type": "execute_result"
    },
    {
     "data": {
      "image/png": "[encoded data removed]",
      "text/plain": [
       "Console does not support images"
      ]
     },
     "metadata": {
      "image/png": {
       "height": 32,
       "width": 32
      }
     },
     "output_type": "display_data"
    },
    {
     "data": {
      "text/plain": [
       "\n",
       "\t\n",
       "UP = 26,937507785435\t\n",
       "DOWN = 24,912377314706\t\n",
       "LEFT = 29,38033040428\t\n",
       "RIGHT = 25,788020769221\t\n"
      ]
     },
     "execution_count": 10,
     "metadata": {},
     "output_type": "execute_result"
    },
    {
     "data": {
      "image/png": "[encoded data removed]",
      "text/plain": [
       "Console does not support images"
      ]
     },
     "metadata": {
      "image/png": {
       "height": 32,
       "width": 32
      }
     },
     "output_type": "display_data"
    },
    {
     "data": {
      "text/plain": [
       "\n",
       "\t\n",
       "UP = 0,0015839280907901\t\n",
       "DOWN = 0,001905032745821\t\n",
       "LEFT = 0,001776921745137\t\n",
       "RIGHT = 0,0013054029555568\t\n"
      ]
     },
     "execution_count": 10,
     "metadata": {},
     "output_type": "execute_result"
    },
    {
     "data": {
      "text/plain": [
       "\n",
       "\t\n",
       "UP = 90,25\t\n",
       "DOWN = 84,334344087249\t\n",
       "LEFT = 85,331402013282\t\n",
       "RIGHT = 82,271785985417\t\n"
      ]
     },
     "execution_count": 10,
     "metadata": {},
     "output_type": "execute_result"
    },
    {
     "data": {
      "image/png": "[encoded data removed]",
      "text/plain": [
       "Console does not support images"
      ]
     },
     "metadata": {
      "image/png": {
       "height": 32,
       "width": 32
      }
     },
     "output_type": "display_data"
    },
    {
     "data": {
      "image/png": "[encoded data removed]",
      "text/plain": [
       "Console does not support images"
      ]
     },
     "metadata": {
      "image/png": {
       "height": 32,
       "width": 32
      }
     },
     "output_type": "display_data"
    },
    {
     "data": {
      "text/plain": [
       "\n",
       "\t\n",
       "UP = 1,1965480275759\t\n",
       "DOWN = 1,1416264553085\t\n",
       "LEFT = 1,1852189809873\t\n"
      ]
     },
     "execution_count": 10,
     "metadata": {},
     "output_type": "execute_result"
    },
    {
     "data": {
      "text/plain": [
       "RIGHT = 0,96191205469825\t\n"
      ]
     },
     "execution_count": 10,
     "metadata": {},
     "output_type": "execute_result"
    },
    {
     "data": {
      "image/png": "[encoded data removed]",
      "text/plain": [
       "Console does not support images"
      ]
     },
     "metadata": {
      "image/png": {
       "height": 32,
       "width": 32
      }
     },
     "output_type": "display_data"
    },
    {
     "data": {
      "text/plain": [
       "\n",
       "\t\n",
       "UP = 0,031109216626884\t\n",
       "DOWN = 0,053747223977488\t\n",
       "LEFT = 0,081494238498636\t\n",
       "RIGHT = 0,27178497227528\t\n"
      ]
     },
     "execution_count": 10,
     "metadata": {},
     "output_type": "execute_result"
    },
    {
     "data": {
      "image/png": "[encoded data removed]",
      "text/plain": [
       "Console does not support images"
      ]
     },
     "metadata": {
      "image/png": {
       "height": 32,
       "width": 32
      }
     },
     "output_type": "display_data"
    },
    {
     "data": {
      "text/plain": [
       "\n",
       "\t\n",
       "UP = 0,00093180467344824\t\n",
       "DOWN = 0,00085011236830509\t\n",
       "LEFT = 0,0013834584261452\t\n",
       "RIGHT = 0,00085288032106236\t\n"
      ]
     },
     "execution_count": 10,
     "metadata": {},
     "output_type": "execute_result"
    },
    {
     "data": {
      "image/png": "[encoded data removed]",
      "text/plain": [
       "Console does not support images"
      ]
     },
     "metadata": {
      "image/png": {
       "height": 32,
       "width": 32
      }
     },
     "output_type": "display_data"
    },
    {
     "data": {
      "text/plain": [
       "\n",
       "\t\n",
       "UP = 0,64695692808687\t\n",
       "DOWN = 0,60698242236572\t\n",
       "LEFT = 1,5268274835568\t\n",
       "RIGHT = 0,4720069754427\t\n"
      ]
     },
     "execution_count": 10,
     "metadata": {},
     "output_type": "execute_result"
    },
    {
     "data": {
      "text/plain": [
       "\n",
       "\t\n",
       "UP = 0,00092278199655391\t\n",
       "DOWN = 0,00089196746698164\t\n",
       "LEFT = 0,0010393349710372\t\n",
       "RIGHT = 0,00095556199655689\t\n"
      ]
     },
     "execution_count": 10,
     "metadata": {},
     "output_type": "execute_result"
    },
    {
     "data": {
      "image/png": "[encoded data removed]",
      "text/plain": [
       "Console does not support images"
      ]
     },
     "metadata": {
      "image/png": {
       "height": 32,
       "width": 32
      }
     },
     "output_type": "display_data"
    },
    {
     "data": {
      "image/png": "[encoded data removed]",
      "text/plain": [
       "Console does not support images"
      ]
     },
     "metadata": {
      "image/png": {
       "height": 32,
       "width": 32
      }
     },
     "output_type": "display_data"
    },
    {
     "data": {
      "text/plain": [
       "\n",
       "\t\n",
       "UP = 0,0077589836883809\t\n",
       "DOWN = 0,0083144017151211\t\n",
       "LEFT = 0,0080443723495644\t\n",
       "RIGHT = 0,0082781192124831\t\n"
      ]
     },
     "execution_count": 10,
     "metadata": {},
     "output_type": "execute_result"
    },
    {
     "data": {
      "image/png": "[encoded data removed]",
      "text/plain": [
       "Console does not support images"
      ]
     },
     "metadata": {
      "image/png": {
       "height": 32,
       "width": 32
      }
     },
     "output_type": "display_data"
    },
    {
     "data": {
      "text/plain": [
       "\n",
       "\t\n",
       "UP = 0,00071460201282918\t\n",
       "DOWN = 0,00058920053818063\t\n",
       "LEFT = 0,00083692041122198\t\n"
      ]
     },
     "execution_count": 10,
     "metadata": {},
     "output_type": "execute_result"
    },
    {
     "data": {
      "text/plain": [
       "RIGHT = 0,00065404803551071\t\n"
      ]
     },
     "execution_count": 10,
     "metadata": {},
     "output_type": "execute_result"
    },
    {
     "data": {
      "text/plain": [
       "\n",
       "\t\n",
       "UP = 0,00087454757595678\t\n",
       "DOWN = 0,0010202923868018\t\n",
       "LEFT = 0,00077473456334286\t\n",
       "RIGHT = 0,00097700167616367\t\n"
      ]
     },
     "execution_count": 10,
     "metadata": {},
     "output_type": "execute_result"
    },
    {
     "data": {
      "image/png": "[encoded data removed]",
      "text/plain": [
       "Console does not support images"
      ]
     },
     "metadata": {
      "image/png": {
       "height": 32,
       "width": 32
      }
     },
     "output_type": "display_data"
    },
    {
     "data": {
      "image/png": "[encoded data removed]",
      "text/plain": [
       "Console does not support images"
      ]
     },
     "metadata": {
      "image/png": {
       "height": 32,
       "width": 32
      }
     },
     "output_type": "display_data"
    },
    {
     "data": {
      "text/plain": [
       "\n",
       "\t\n",
       "UP = 0,4352353055183\t\n",
       "DOWN = 1,879759386139\t\n",
       "LEFT = 0,3886256529056\t\n",
       "RIGHT = 0,44844593232066\t\n"
      ]
     },
     "execution_count": 10,
     "metadata": {},
     "output_type": "execute_result"
    },
    {
     "data": {
      "image/png": "[encoded data removed]",
      "text/plain": [
       "Console does not support images"
      ]
     },
     "metadata": {
      "image/png": {
       "height": 32,
       "width": 32
      }
     },
     "output_type": "display_data"
    },
    {
     "data": {
      "text/plain": [
       "\n",
       "\t\n",
       "UP = 0,0010356418180737\t\n",
       "DOWN = 0,0010584478481646\t\n",
       "LEFT = 0,0014615601924876\t\n",
       "RIGHT = 0,001013935813374\t\n"
      ]
     },
     "execution_count": 10,
     "metadata": {},
     "output_type": "execute_result"
    },
    {
     "data": {
      "image/png": "[encoded data removed]",
      "text/plain": [
       "Console does not support images"
      ]
     },
     "metadata": {
      "image/png": {
       "height": 32,
       "width": 32
      }
     },
     "output_type": "display_data"
    },
    {
     "data": {
      "text/plain": [
       "\n",
       "\t\n",
       "UP = 58,83695830618\t\n",
       "DOWN = 57,918792751244\t\n",
       "LEFT = 63,02494097246\t\n",
       "RIGHT = 58,572425171517\t\n"
      ]
     },
     "execution_count": 10,
     "metadata": {},
     "output_type": "execute_result"
    },
    {
     "data": {
      "image/png": "[encoded data removed]",
      "text/plain": [
       "Console does not support images"
      ]
     },
     "metadata": {
      "image/png": {
       "height": 32,
       "width": 32
      }
     },
     "output_type": "display_data"
    },
    {
     "data": {
      "text/plain": [
       "\n",
       "\t\n",
       "UP = 45,426234815447\t\n",
       "DOWN = 46,653272141285\t\n",
       "LEFT = 44,953824542837\t\n",
       "RIGHT = 50,096108885933\t\n"
      ]
     },
     "execution_count": 10,
     "metadata": {},
     "output_type": "execute_result"
    },
    {
     "data": {
      "image/png": "[encoded data removed]",
      "text/plain": [
       "Console does not support images"
      ]
     },
     "metadata": {
      "image/png": {
       "height": 32,
       "width": 32
      }
     },
     "output_type": "display_data"
    },
    {
     "data": {
      "text/plain": [
       "\n",
       "\t\n",
       "UP = 0,10398080871607\t\n",
       "DOWN = 0,15626598246665\t\n",
       "LEFT = 0,13593080521159\t\n",
       "RIGHT = 0,091304201881161\t\n"
      ]
     },
     "execution_count": 10,
     "metadata": {},
     "output_type": "execute_result"
    },
    {
     "data": {
      "image/png": "[encoded data removed]",
      "text/plain": [
       "Console does not support images"
      ]
     },
     "metadata": {
      "image/png": {
       "height": 32,
       "width": 32
      }
     },
     "output_type": "display_data"
    },
    {
     "data": {
      "text/plain": [
       "\n",
       "\t\n",
       "UP = 0,0012631792933526\t\n"
      ]
     },
     "execution_count": 10,
     "metadata": {},
     "output_type": "execute_result"
    },
    {
     "data": {
      "text/plain": [
       "DOWN = 0,00079767677966051\t\n",
       "LEFT = 0,00086867273466485\t\n",
       "RIGHT = 0,00096994175078966\t\n"
      ]
     },
     "execution_count": 10,
     "metadata": {},
     "output_type": "execute_result"
    },
    {
     "data": {
      "image/png": "[encoded data removed]",
      "text/plain": [
       "Console does not support images"
      ]
     },
     "metadata": {
      "image/png": {
       "height": 32,
       "width": 32
      }
     },
     "output_type": "display_data"
    },
    {
     "data": {
      "text/plain": [
       "\n",
       "\t\n",
       "UP = 2,3423017587591\t\n",
       "DOWN = 2,8194923804963\t\n",
       "LEFT = 2,4392635799259\t\n",
       "RIGHT = 2,7649129564709\t\n"
      ]
     },
     "execution_count": 10,
     "metadata": {},
     "output_type": "execute_result"
    },
    {
     "data": {
      "image/png": "[encoded data removed]",
      "text/plain": [
       "Console does not support images"
      ]
     },
     "metadata": {
      "image/png": {
       "height": 32,
       "width": 32
      }
     },
     "output_type": "display_data"
    },
    {
     "data": {
      "text/plain": [
       "\n",
       "\t\n",
       "UP = 9,9455933681389\t\n",
       "DOWN = 6,9579559439613\t\n"
      ]
     },
     "execution_count": 10,
     "metadata": {},
     "output_type": "execute_result"
    },
    {
     "data": {
      "text/plain": [
       "LEFT = 17,097928264551\t\n",
       "RIGHT = 8,2300464315513\t\n"
      ]
     },
     "execution_count": 10,
     "metadata": {},
     "output_type": "execute_result"
    },
    {
     "data": {
      "image/png": "[encoded data removed]",
      "text/plain": [
       "Console does not support images"
      ]
     },
     "metadata": {
      "image/png": {
       "height": 32,
       "width": 32
      }
     },
     "output_type": "display_data"
    },
    {
     "data": {
      "text/plain": [
       "\n",
       "\t\n",
       "UP = 0,00055731597514937\t\n",
       "DOWN = 0,00057522528583512\t\n",
       "LEFT = 0,00050953250709129\t\n"
      ]
     },
     "execution_count": 10,
     "metadata": {},
     "output_type": "execute_result"
    },
    {
     "data": {
      "text/plain": [
       "RIGHT = 0,00042963121895788\t\n"
      ]
     },
     "execution_count": 10,
     "metadata": {},
     "output_type": "execute_result"
    },
    {
     "data": {
      "image/png": "[encoded data removed]",
      "text/plain": [
       "Console does not support images"
      ]
     },
     "metadata": {
      "image/png": {
       "height": 32,
       "width": 32
      }
     },
     "output_type": "display_data"
    },
    {
     "data": {
      "text/plain": [
       "\n",
       "\t\n",
       "UP = 0,00039510778043801\t\n",
       "DOWN = 0,00036156506627515\t\n",
       "LEFT = 0,00035930118958972\t\n"
      ]
     },
     "execution_count": 10,
     "metadata": {},
     "output_type": "execute_result"
    },
    {
     "data": {
      "text/plain": [
       "RIGHT = 0,00034159577982647\t\n"
      ]
     },
     "execution_count": 10,
     "metadata": {},
     "output_type": "execute_result"
    },
    {
     "data": {
      "image/png": "[encoded data removed]",
      "text/plain": [
       "Console does not support images"
      ]
     },
     "metadata": {
      "image/png": {
       "height": 32,
       "width": 32
      }
     },
     "output_type": "display_data"
    },
    {
     "data": {
      "text/plain": [
       "\n",
       "\t\n",
       "UP = 17,409160806419\t\n",
       "DOWN = 19,491232063236\t\n",
       "LEFT = 18,531964214327\t\n",
       "RIGHT = 23,521479629415\t\n"
      ]
     },
     "execution_count": 10,
     "metadata": {},
     "output_type": "execute_result"
    },
    {
     "data": {
      "text/plain": [
       "\n",
       "\t\n",
       "UP = 0,0080366588400681\t\n",
       "DOWN = 0,0079272369931897\t\n",
       "LEFT = 0,0091548926709122\t\n",
       "RIGHT = 0,007770601863094\t\n"
      ]
     },
     "execution_count": 10,
     "metadata": {},
     "output_type": "execute_result"
    },
    {
     "data": {
      "image/png": "[encoded data removed]",
      "text/plain": [
       "Console does not support images"
      ]
     },
     "metadata": {
      "image/png": {
       "height": 32,
       "width": 32
      }
     },
     "output_type": "display_data"
    },
    {
     "data": {
      "image/png": "[encoded data removed]",
      "text/plain": [
       "Console does not support images"
      ]
     },
     "metadata": {
      "image/png": {
       "height": 32,
       "width": 32
      }
     },
     "output_type": "display_data"
    },
    {
     "data": {
      "text/plain": [
       "\n",
       "\t\n",
       "UP = 0,037380280687567\t\n",
       "DOWN = 0,08306863902231\t\n",
       "LEFT = 0,041452923918727\t"
      ]
     },
     "execution_count": 10,
     "metadata": {},
     "output_type": "execute_result"
    },
    {
     "data": {
      "text/plain": [
       "\n",
       "RIGHT = 0,026429907263469\t\n"
      ]
     },
     "execution_count": 10,
     "metadata": {},
     "output_type": "execute_result"
    },
    {
     "data": {
      "image/png": "[encoded data removed]",
      "text/plain": [
       "Console does not support images"
      ]
     },
     "metadata": {
      "image/png": {
       "height": 32,
       "width": 32
      }
     },
     "output_type": "display_data"
    },
    {
     "data": {
      "text/plain": [
       "\n",
       "\t\n",
       "UP = 0,49934016909147\t\n",
       "DOWN = 0,59817739222569\t\n",
       "LEFT = 0,62110604364927\t\n"
      ]
     },
     "execution_count": 10,
     "metadata": {},
     "output_type": "execute_result"
    },
    {
     "data": {
      "text/plain": [
       "RIGHT = 0,51876306620937\t\n"
      ]
     },
     "execution_count": 10,
     "metadata": {},
     "output_type": "execute_result"
    },
    {
     "data": {
      "image/png": "[encoded data removed]",
      "text/plain": [
       "Console does not support images"
      ]
     },
     "metadata": {
      "image/png": {
       "height": 32,
       "width": 32
      }
     },
     "output_type": "display_data"
    },
    {
     "data": {
      "text/plain": [
       "\n",
       "\t\n",
       "UP = 4,1727268507922\t\n",
       "DOWN = 3,0588543483646\t\n",
       "LEFT = 8,8106692683491\t\n",
       "RIGHT = 3,1513147998695\t\n"
      ]
     },
     "execution_count": 10,
     "metadata": {},
     "output_type": "execute_result"
    },
    {
     "data": {
      "image/png": "[encoded data removed]",
      "text/plain": [
       "Console does not support images"
      ]
     },
     "metadata": {
      "image/png": {
       "height": 32,
       "width": 32
      }
     },
     "output_type": "display_data"
    },
    {
     "data": {
      "text/plain": [
       "\n",
       "\t\n",
       "UP = 0,0058726817156556\t\n",
       "DOWN = 0,00737881120835\t\n",
       "LEFT = 0,0059598249233353\t\n",
       "RIGHT = 0,0082734587166506\t\n"
      ]
     },
     "execution_count": 10,
     "metadata": {},
     "output_type": "execute_result"
    },
    {
     "data": {
      "image/png": "[encoded data removed]",
      "text/plain": [
       "Console does not support images"
      ]
     },
     "metadata": {
      "image/png": {
       "height": 32,
       "width": 32
      }
     },
     "output_type": "display_data"
    },
    {
     "data": {
      "text/plain": [
       "\n",
       "\t\n",
       "UP = 40,408904858734\t\n",
       "DOWN = 44,012666865176\t\n",
       "LEFT = 38,670949971193\t\n",
       "RIGHT = 38,993765317351\t\n"
      ]
     },
     "execution_count": 10,
     "metadata": {},
     "output_type": "execute_result"
    },
    {
     "data": {
      "image/png": "[encoded data removed]",
      "text/plain": [
       "Console does not support images"
      ]
     },
     "metadata": {
      "image/png": {
       "height": 32,
       "width": 32
      }
     },
     "output_type": "display_data"
    },
    {
     "data": {
      "text/plain": [
       "\n",
       "\t\n",
       "UP = 0,00016428607328847\t\n",
       "DOWN = 0,00019793113220776\t\n",
       "LEFT = 0,00018393500510517\t\n",
       "RIGHT = 0,00017744911899322\t\n"
      ]
     },
     "execution_count": 10,
     "metadata": {},
     "output_type": "execute_result"
    },
    {
     "data": {
      "text/plain": [
       "\n",
       "\t\n",
       "UP = 73,5091890625\t\n",
       "DOWN = 68,696732681012\t\n",
       "LEFT = 66,580518983559\t\n",
       "RIGHT = 67,901341506106\t"
      ]
     },
     "execution_count": 10,
     "metadata": {},
     "output_type": "execute_result"
    },
    {
     "data": {
      "image/png": "[encoded data removed]",
      "text/plain": [
       "Console does not support images"
      ]
     },
     "metadata": {
      "image/png": {
       "height": 32,
       "width": 32
      }
     },
     "output_type": "display_data"
    },
    {
     "data": {
      "text/plain": [
       "\n"
      ]
     },
     "execution_count": 10,
     "metadata": {},
     "output_type": "execute_result"
    },
    {
     "data": {
      "image/png": "[encoded data removed]",
      "text/plain": [
       "Console does not support images"
      ]
     },
     "metadata": {
      "image/png": {
       "height": 32,
       "width": 32
      }
     },
     "output_type": "display_data"
    },
    {
     "data": {
      "text/plain": [
       "\n",
       "\t\n",
       "UP = 54,086044508627\t\n",
       "DOWN = 52,678268365718\t\n",
       "LEFT = 56,880009227645\t\n",
       "RIGHT = 52,157980541329\t\n"
      ]
     },
     "execution_count": 10,
     "metadata": {},
     "output_type": "execute_result"
    },
    {
     "data": {
      "image/png": "[encoded data removed]",
      "text/plain": [
       "Console does not support images"
      ]
     },
     "metadata": {
      "image/png": {
       "height": 32,
       "width": 32
      }
     },
     "output_type": "display_data"
    },
    {
     "data": {
      "text/plain": [
       "\n",
       "\t\n",
       "UP = 90,65339100057\t\n",
       "DOWN = 86,878670993871\t\n",
       "LEFT = 89,18665570082\t\n",
       "RIGHT = 94,28244447896\t\n"
      ]
     },
     "execution_count": 10,
     "metadata": {},
     "output_type": "execute_result"
    },
    {
     "data": {
      "text/plain": [
       "\n",
       "\t\n",
       "UP = 0,017278364903122\t\n"
      ]
     },
     "execution_count": 10,
     "metadata": {},
     "output_type": "execute_result"
    },
    {
     "data": {
      "image/png": "[encoded data removed]",
      "text/plain": [
       "Console does not support images"
      ]
     },
     "metadata": {
      "image/png": {
       "height": 32,
       "width": 32
      }
     },
     "output_type": "display_data"
    },
    {
     "data": {
      "text/plain": [
       "DOWN = 0,016480625730429\t\n",
       "LEFT = 0,0084907008786418\t\n",
       "RIGHT = 0,0304223933304\t\n"
      ]
     },
     "execution_count": 10,
     "metadata": {},
     "output_type": "execute_result"
    },
    {
     "data": {
      "text/plain": [
       "\n",
       "\t\n",
       "UP = 0,00022886051697209\t\n",
       "DOWN = 0,0002559649160583\t\n"
      ]
     },
     "execution_count": 10,
     "metadata": {},
     "output_type": "execute_result"
    },
    {
     "data": {
      "image/png": "[encoded data removed]",
      "text/plain": [
       "Console does not support images"
      ]
     },
     "metadata": {
      "image/png": {
       "height": 32,
       "width": 32
      }
     },
     "output_type": "display_data"
    },
    {
     "data": {
      "text/plain": [
       "LEFT = 0,00022585965715627\t\n",
       "RIGHT = 0,00020198788825034\t\n"
      ]
     },
     "execution_count": 10,
     "metadata": {},
     "output_type": "execute_result"
    },
    {
     "data": {
      "image/png": "[encoded data removed]",
      "text/plain": [
       "Console does not support images"
      ]
     },
     "metadata": {
      "image/png": {
       "height": 32,
       "width": 32
      }
     },
     "output_type": "display_data"
    },
    {
     "data": {
      "text/plain": [
       "\n",
       "\t\n",
       "UP = 0,38239143220918\t\n",
       "DOWN = 0,4306233694635\t\n",
       "LEFT = 0,36346427583309\t\n",
       "RIGHT = 0,34322514962975\t"
      ]
     },
     "execution_count": 10,
     "metadata": {},
     "output_type": "execute_result"
    },
    {
     "data": {
      "text/plain": [
       "\n"
      ]
     },
     "execution_count": 10,
     "metadata": {},
     "output_type": "execute_result"
    },
    {
     "data": {
      "image/png": "[encoded data removed]",
      "text/plain": [
       "Console does not support images"
      ]
     },
     "metadata": {
      "image/png": {
       "height": 32,
       "width": 32
      }
     },
     "output_type": "display_data"
    },
    {
     "data": {
      "text/plain": [
       "\n",
       "\t\n",
       "UP = 0,58385608821276\t\n",
       "DOWN = 0,11062919929709\t\n",
       "LEFT = 0,30901561078406\t\n",
       "RIGHT = 0,15651425086689\t\n"
      ]
     },
     "execution_count": 10,
     "metadata": {},
     "output_type": "execute_result"
    },
    {
     "data": {
      "image/png": "[encoded data removed]",
      "text/plain": [
       "Console does not support images"
      ]
     },
     "metadata": {
      "image/png": {
       "height": 32,
       "width": 32
      }
     },
     "output_type": "display_data"
    },
    {
     "data": {
      "text/plain": [
       "\n",
       "\t\n",
       "UP = 0,007025296038399\t\n",
       "DOWN = 0,011553471394001\t\n",
       "LEFT = 0,0080543653193588\t\n",
       "RIGHT = 0,0092068744115317\t\n"
      ]
     },
     "execution_count": 10,
     "metadata": {},
     "output_type": "execute_result"
    },
    {
     "data": {
      "image/png": "[encoded data removed]",
      "text/plain": [
       "Console does not support images"
      ]
     },
     "metadata": {
      "image/png": {
       "height": 32,
       "width": 32
      }
     },
     "output_type": "display_data"
    },
    {
     "data": {
      "text/plain": [
       "\n",
       "\t\n",
       "UP = 4,4779278810781\t\n",
       "DOWN = 5,1802237412109\t\n",
       "LEFT = 3,5449841411372\t\n",
       "RIGHT = 6,3805946141371\t\n"
      ]
     },
     "execution_count": 10,
     "metadata": {},
     "output_type": "execute_result"
    },
    {
     "data": {
      "image/png": "[encoded data removed]",
      "text/plain": [
       "Console does not support images"
      ]
     },
     "metadata": {
      "image/png": {
       "height": 32,
       "width": 32
      }
     },
     "output_type": "display_data"
    },
    {
     "data": {
      "text/plain": [
       "\n",
       "\t\n",
       "UP = 0,00061765852978926\t\n",
       "DOWN = 0,00052288327871255\t\n",
       "LEFT = 0,0007044331672893\t\n",
       "RIGHT = 0,00042990639927579\t\n"
      ]
     },
     "execution_count": 10,
     "metadata": {},
     "output_type": "execute_result"
    },
    {
     "data": {
      "image/png": "[encoded data removed]",
      "text/plain": [
       "Console does not support images"
      ]
     },
     "metadata": {
      "image/png": {
       "height": 32,
       "width": 32
      }
     },
     "output_type": "display_data"
    },
    {
     "data": {
      "text/plain": [
       "\n",
       "\t\n",
       "UP = 0,0060803063942033\t\n",
       "DOWN = 0,0040246415032144\t\n",
       "LEFT = 0,0075762029942004\t\n",
       "RIGHT = 0,0053063210442657\t\n"
      ]
     },
     "execution_count": 10,
     "metadata": {},
     "output_type": "execute_result"
    },
    {
     "data": {
      "image/png": "[encoded data removed]",
      "text/plain": [
       "Console does not support images"
      ]
     },
     "metadata": {
      "image/png": {
       "height": 32,
       "width": 32
      }
     },
     "output_type": "display_data"
    },
    {
     "data": {
      "text/plain": [
       "\n",
       "\t\n",
       "UP = 5,0155248842109\t\n",
       "DOWN = 7,3402401948876\t\n",
       "LEFT = 4,7773824775611\t\n",
       "RIGHT = 3,4202622932087\t\n"
      ]
     },
     "execution_count": 10,
     "metadata": {},
     "output_type": "execute_result"
    },
    {
     "data": {
      "image/png": "[encoded data removed]",
      "text/plain": [
       "Console does not support images"
      ]
     },
     "metadata": {
      "image/png": {
       "height": 32,
       "width": 32
      }
     },
     "output_type": "display_data"
    },
    {
     "data": {
      "text/plain": [
       "\n",
       "\t\n",
       "UP = 26,352009446574\t\n",
       "DOWN = 23,845246542849\t\n",
       "LEFT = 23,889719414809\t\n",
       "RIGHT = 22,882654460594\t"
      ]
     },
     "execution_count": 10,
     "metadata": {},
     "output_type": "execute_result"
    },
    {
     "data": {
      "text/plain": [
       "\n"
      ]
     },
     "execution_count": 10,
     "metadata": {},
     "output_type": "execute_result"
    },
    {
     "data": {
      "image/png": "[encoded data removed]",
      "text/plain": [
       "Console does not support images"
      ]
     },
     "metadata": {
      "image/png": {
       "height": 32,
       "width": 32
      }
     },
     "output_type": "display_data"
    },
    {
     "data": {
      "text/plain": [
       "\n",
       "\t\n",
       "UP = 0,026515256186271\t\n",
       "DOWN = 0,022366579492801\t\n",
       "LEFT = 0,020128393146305\t\n",
       "RIGHT = 0,01910734078095\t\n"
      ]
     },
     "execution_count": 10,
     "metadata": {},
     "output_type": "execute_result"
    },
    {
     "data": {
      "image/png": "[encoded data removed]",
      "text/plain": [
       "Console does not support images"
      ]
     },
     "metadata": {
      "image/png": {
       "height": 32,
       "width": 32
      }
     },
     "output_type": "display_data"
    },
    {
     "data": {
      "text/plain": [
       "\n",
       "\t\n",
       "UP = 0,2890063966237\t\n",
       "DOWN = 0,29323543487577\t\n",
       "LEFT = 0,32841290852129\t\n",
       "RIGHT = 0,29100054234075\t\n"
      ]
     },
     "execution_count": 10,
     "metadata": {},
     "output_type": "execute_result"
    },
    {
     "data": {
      "text/plain": [
       "\n",
       "\t\n",
       "UP = 0,016674776720213\t"
      ]
     },
     "execution_count": 10,
     "metadata": {},
     "output_type": "execute_result"
    },
    {
     "data": {
      "image/png": "[encoded data removed]",
      "text/plain": [
       "Console does not support images"
      ]
     },
     "metadata": {
      "image/png": {
       "height": 32,
       "width": 32
      }
     },
     "output_type": "display_data"
    },
    {
     "data": {
      "text/plain": [
       "\n",
       "DOWN = 0,016340912618217\t\n",
       "LEFT = 0,014654130288753\t\n",
       "RIGHT = 0,015547990932111\t\n"
      ]
     },
     "execution_count": 10,
     "metadata": {},
     "output_type": "execute_result"
    },
    {
     "data": {
      "image/png": "[encoded data removed]",
      "text/plain": [
       "Console does not support images"
      ]
     },
     "metadata": {
      "image/png": {
       "height": 32,
       "width": 32
      }
     },
     "output_type": "display_data"
    },
    {
     "data": {
      "text/plain": [
       "\n",
       "\t\n",
       "UP = 0,010984105456321\t\n",
       "DOWN = 0,014140508057675\t\n",
       "LEFT = 0,014045694858354\t\n",
       "RIGHT = 0,015536340369285\t\n"
      ]
     },
     "execution_count": 10,
     "metadata": {},
     "output_type": "execute_result"
    },
    {
     "data": {
      "image/png": "[encoded data removed]",
      "text/plain": [
       "Console does not support images"
      ]
     },
     "metadata": {
      "image/png": {
       "height": 32,
       "width": 32
      }
     },
     "output_type": "display_data"
    },
    {
     "data": {
      "text/plain": [
       "\n",
       "\t\n",
       "UP = 0,015588232819221\t\n",
       "DOWN = 0,015110470712257\t\n",
       "LEFT = 0,013013450174819\t\n",
       "RIGHT = 0,013855171070881\t\n"
      ]
     },
     "execution_count": 10,
     "metadata": {},
     "output_type": "execute_result"
    },
    {
     "data": {
      "text/plain": [
       "\n",
       "\t\n",
       "UP = 59,873693923837\t\n",
       "DOWN = 55,378915147681\t\n",
       "LEFT = 54,973891071196\t\n",
       "RIGHT = 54,179448601204\t\n"
      ]
     },
     "execution_count": 10,
     "metadata": {},
     "output_type": "execute_result"
    },
    {
     "data": {
      "image/png": "[encoded data removed]",
      "text/plain": [
       "Console does not support images"
      ]
     },
     "metadata": {
      "image/png": {
       "height": 32,
       "width": 32
      }
     },
     "output_type": "display_data"
    },
    {
     "data": {
      "image/png": "[encoded data removed]",
      "text/plain": [
       "Console does not support images"
      ]
     },
     "metadata": {
      "image/png": {
       "height": 32,
       "width": 32
      }
     },
     "output_type": "display_data"
    },
    {
     "data": {
      "text/plain": [
       "\n",
       "\t\n"
      ]
     },
     "execution_count": 10,
     "metadata": {},
     "output_type": "execute_result"
    },
    {
     "data": {
      "text/plain": [
       "UP = 0,00020343518359732\t\n",
       "DOWN = 0,0002495623155299\t\n",
       "LEFT = 0,00023353809473026\t\n",
       "RIGHT = 0,00020847772081886\t\n"
      ]
     },
     "execution_count": 10,
     "metadata": {},
     "output_type": "execute_result"
    },
    {
     "data": {
      "image/png": "[encoded data removed]",
      "text/plain": [
       "Console does not support images"
      ]
     },
     "metadata": {
      "image/png": {
       "height": 32,
       "width": 32
      }
     },
     "output_type": "display_data"
    },
    {
     "data": {
      "text/plain": [
       "\n",
       "\t\n",
       "UP = 0,0069062757129913\t\n",
       "DOWN = 0,0074401586780389\t\n"
      ]
     },
     "execution_count": 10,
     "metadata": {},
     "output_type": "execute_result"
    },
    {
     "data": {
      "text/plain": [
       "LEFT = 0,0068506028767415\t\n",
       "RIGHT = 0,0071119111088275\t\n"
      ]
     },
     "execution_count": 10,
     "metadata": {},
     "output_type": "execute_result"
    },
    {
     "data": {
      "image/png": "[encoded data removed]",
      "text/plain": [
       "Console does not support images"
      ]
     },
     "metadata": {
      "image/png": {
       "height": 32,
       "width": 32
      }
     },
     "output_type": "display_data"
    },
    {
     "data": {
      "text/plain": [
       "\n",
       "\t\n"
      ]
     },
     "execution_count": 10,
     "metadata": {},
     "output_type": "execute_result"
    },
    {
     "data": {
      "text/plain": [
       "UP = 0,0003124258954436\t\n",
       "DOWN = 0,00034665297624336\t\n",
       "LEFT = 0,00030548691026208\t\n",
       "RIGHT = 0,00030471292279768\t\n"
      ]
     },
     "execution_count": 10,
     "metadata": {},
     "output_type": "execute_result"
    },
    {
     "data": {
      "image/png": "[encoded data removed]",
      "text/plain": [
       "Console does not support images"
      ]
     },
     "metadata": {
      "image/png": {
       "height": 32,
       "width": 32
      }
     },
     "output_type": "display_data"
    },
    {
     "data": {
      "text/plain": [
       "\n",
       "\t\n",
       "UP = 76,128119138615\t\n",
       "DOWN = 81,450625\t\n",
       "LEFT = 74,136476212185\t\n",
       "RIGHT = 75,191734884902\t\n"
      ]
     },
     "execution_count": 10,
     "metadata": {},
     "output_type": "execute_result"
    },
    {
     "data": {
      "image/png": "[encoded data removed]",
      "text/plain": [
       "Console does not support images"
      ]
     },
     "metadata": {
      "image/png": {
       "height": 32,
       "width": 32
      }
     },
     "output_type": "display_data"
    },
    {
     "data": {
      "text/plain": [
       "\n",
       "\t\n",
       "UP = 80,431433558892\t\n",
       "DOWN = 80,664520066407\t\n",
       "LEFT = 81,683682354768\t\n",
       "RIGHT = 85,7375\t\n"
      ]
     },
     "execution_count": 10,
     "metadata": {},
     "output_type": "execute_result"
    },
    {
     "data": {
      "image/png": "[encoded data removed]",
      "text/plain": [
       "Console does not support images"
      ]
     },
     "metadata": {
      "image/png": {
       "height": 32,
       "width": 32
      }
     },
     "output_type": "display_data"
    },
    {
     "data": {
      "text/plain": [
       "\n",
       "\t\n"
      ]
     },
     "execution_count": 10,
     "metadata": {},
     "output_type": "execute_result"
    },
    {
     "data": {
      "text/plain": [
       "UP = 0,00043326876995487\t\n",
       "DOWN = 0,00048104571873042\t\n",
       "LEFT = 0,00050258770224339\t\n",
       "RIGHT = 0,00043249408968566\t\n"
      ]
     },
     "execution_count": 10,
     "metadata": {},
     "output_type": "execute_result"
    },
    {
     "data": {
      "image/png": "[encoded data removed]",
      "text/plain": [
       "Console does not support images"
      ]
     },
     "metadata": {
      "image/png": {
       "height": 32,
       "width": 32
      }
     },
     "output_type": "display_data"
    },
    {
     "data": {
      "text/plain": [
       "\n",
       "\t\n"
      ]
     },
     "execution_count": 10,
     "metadata": {},
     "output_type": "execute_result"
    },
    {
     "data": {
      "text/plain": [
       "UP = 20,696518770005\t\n",
       "DOWN = 30,642572793114\t\n",
       "LEFT = 16,862323641542\t\n",
       "RIGHT = 12,485272134045\t\n"
      ]
     },
     "execution_count": 10,
     "metadata": {},
     "output_type": "execute_result"
    },
    {
     "data": {
      "image/png": "[encoded data removed]",
      "text/plain": [
       "Console does not support images"
      ]
     },
     "metadata": {
      "image/png": {
       "height": 32,
       "width": 32
      }
     },
     "output_type": "display_data"
    },
    {
     "data": {
      "text/plain": [
       "\n",
       "\t\n",
       "UP = 51,615498534322\t\n",
       "DOWN = 50,157035258931\t\n",
       "LEFT = 51,129130855415\t\n",
       "RIGHT = 55,526839361703\t\n"
      ]
     },
     "execution_count": 10,
     "metadata": {},
     "output_type": "execute_result"
    },
    {
     "data": {
      "image/png": "[encoded data removed]",
      "text/plain": [
       "Console does not support images"
      ]
     },
     "metadata": {
      "image/png": {
       "height": 32,
       "width": 32
      }
     },
     "output_type": "display_data"
    },
    {
     "data": {
      "text/plain": [
       "\n",
       "\t\n",
       "UP = 88,568919775981\t\n",
       "DOWN = 75,631391159902\t\n",
       "LEFT = 74,901594021854\t\n",
       "RIGHT = 79,462775825749\t\n"
      ]
     },
     "execution_count": 10,
     "metadata": {},
     "output_type": "execute_result"
    },
    {
     "data": {
      "text/plain": [
       "\n",
       "\t\n",
       "UP = 64,773589209008\t\n",
       "DOWN = 60,420246204523\t\n",
       "LEFT = 59,915469026269\t\n",
       "RIGHT = 73,416111924637\t\n"
      ]
     },
     "execution_count": 10,
     "metadata": {},
     "output_type": "execute_result"
    },
    {
     "data": {
      "image/png": "[encoded data removed]",
      "text/plain": [
       "Console does not support images"
      ]
     },
     "metadata": {
      "image/png": {
       "height": 32,
       "width": 32
      }
     },
     "output_type": "display_data"
    },
    {
     "data": {
      "text/plain": [
       "\n",
       "\t\n",
       "UP = 62,447447793331\t\n",
       "DOWN = 54,318011554184\t\n",
       "LEFT = 76,104735093898\t\n"
      ]
     },
     "execution_count": 10,
     "metadata": {},
     "output_type": "execute_result"
    },
    {
     "data": {
      "text/plain": [
       "RIGHT = 61,821413057549\t\n"
      ]
     },
     "execution_count": 10,
     "metadata": {},
     "output_type": "execute_result"
    },
    {
     "data": {
      "image/png": "[encoded data removed]",
      "text/plain": [
       "Console does not support images"
      ]
     },
     "metadata": {
      "image/png": {
       "height": 32,
       "width": 32
      }
     },
     "output_type": "display_data"
    },
    {
     "data": {
      "text/plain": [
       "\n",
       "\t\n",
       "UP = 0,61081016652052\t\n",
       "DOWN = 0,6334306253747\t\n"
      ]
     },
     "execution_count": 10,
     "metadata": {},
     "output_type": "execute_result"
    },
    {
     "data": {
      "text/plain": [
       "LEFT = 0,7595745682131\t\n",
       "RIGHT = 1,5521273989242\t\n"
      ]
     },
     "execution_count": 10,
     "metadata": {},
     "output_type": "execute_result"
    },
    {
     "data": {
      "image/png": "[encoded data removed]",
      "text/plain": [
       "Console does not support images"
      ]
     },
     "metadata": {
      "image/png": {
       "height": 32,
       "width": 32
      }
     },
     "output_type": "display_data"
    },
    {
     "data": {
      "image/png": "[encoded data removed]",
      "text/plain": [
       "Console does not support images"
      ]
     },
     "metadata": {
      "image/png": {
       "height": 32,
       "width": 32
      }
     },
     "output_type": "display_data"
    },
    {
     "data": {
      "text/plain": [
       "\n",
       "\t\n",
       "UP = 21,445769210452\t\n",
       "DOWN = 24,555503906217\t\n",
       "LEFT = 22,452319269183\t\n",
       "RIGHT = 31,766620823995\t\n"
      ]
     },
     "execution_count": 10,
     "metadata": {},
     "output_type": "execute_result"
    },
    {
     "data": {
      "image/png": "[encoded data removed]",
      "text/plain": [
       "Console does not support images"
      ]
     },
     "metadata": {
      "image/png": {
       "height": 32,
       "width": 32
      }
     },
     "output_type": "display_data"
    },
    {
     "data": {
      "text/plain": [
       "\n",
       "\t\n"
      ]
     },
     "execution_count": 10,
     "metadata": {},
     "output_type": "execute_result"
    },
    {
     "data": {
      "text/plain": [
       "UP = 3,2448845790234\t\n",
       "DOWN = 4,310233709962\t\n",
       "LEFT = 3,8781970593487\t\n",
       "RIGHT = 3,5678829767195\t\n"
      ]
     },
     "execution_count": 10,
     "metadata": {},
     "output_type": "execute_result"
    },
    {
     "data": {
      "image/png": "[encoded data removed]",
      "text/plain": [
       "Console does not support images"
      ]
     },
     "metadata": {
      "image/png": {
       "height": 32,
       "width": 32
      }
     },
     "output_type": "display_data"
    },
    {
     "data": {
      "text/plain": [
       "\n",
       "\t\n",
       "UP = 71,3012967366\t\n",
       "DOWN = 72,431175574194\t\n",
       "LEFT = 71,684302322236\t\n",
       "RIGHT = 77,37809375\t\n"
      ]
     },
     "execution_count": 10,
     "metadata": {},
     "output_type": "execute_result"
    },
    {
     "data": {
      "image/png": "[encoded data removed]",
      "text/plain": [
       "Console does not support images"
      ]
     },
     "metadata": {
      "image/png": {
       "height": 32,
       "width": 32
      }
     },
     "output_type": "display_data"
    },
    {
     "data": {
      "text/plain": [
       "\n",
       "\t\n",
       "UP = 0,00034765303063799\t\n",
       "DOWN = 0,00027913523058431\t\n",
       "LEFT = 0,0003341862814499\t\n",
       "RIGHT = 0,00037289702767472\t\n"
      ]
     },
     "execution_count": 10,
     "metadata": {},
     "output_type": "execute_result"
    },
    {
     "data": {
      "text/plain": [
       "\n",
       "\t\n",
       "UP = 56,874353952446\t\n",
       "DOWN = 55,938425288099\t\n",
       "LEFT = 54,705276252186\t\n",
       "RIGHT = 61,911998610206\t\n"
      ]
     },
     "execution_count": 10,
     "metadata": {},
     "output_type": "execute_result"
    },
    {
     "data": {
      "image/png": "[encoded data removed]",
      "text/plain": [
       "Console does not support images"
      ]
     },
     "metadata": {
      "image/png": {
       "height": 32,
       "width": 32
      }
     },
     "output_type": "display_data"
    },
    {
     "data": {
      "image/png": "[encoded data removed]",
      "text/plain": [
       "Console does not support images"
      ]
     },
     "metadata": {
      "image/png": {
       "height": 32,
       "width": 32
      }
     },
     "output_type": "display_data"
    },
    {
     "data": {
      "text/plain": [
       "\n",
       "\t\n",
       "UP = 70,711330533116\t\n",
       "DOWN = 73,948567731732\t\n",
       "LEFT = 76,488089064431\t\n",
       "RIGHT = 71,65407862642\t\n"
      ]
     },
     "execution_count": 10,
     "metadata": {},
     "output_type": "execute_result"
    },
    {
     "data": {
      "image/png": "[encoded data removed]",
      "text/plain": [
       "Console does not support images"
      ]
     },
     "metadata": {
      "image/png": {
       "height": 32,
       "width": 32
      }
     },
     "output_type": "display_data"
    },
    {
     "data": {
      "text/plain": [
       "\n",
       "\t\n",
       "UP = 0,0017883878026616\t\n",
       "DOWN = 0,002232806787532\t\n",
       "LEFT = 0,0013217868263066\t\n",
       "RIGHT = 0,0015541269676822\t\n"
      ]
     },
     "execution_count": 10,
     "metadata": {},
     "output_type": "execute_result"
    },
    {
     "data": {
      "image/png": "[encoded data removed]",
      "text/plain": [
       "Console does not support images"
      ]
     },
     "metadata": {
      "image/png": {
       "height": 32,
       "width": 32
      }
     },
     "output_type": "display_data"
    },
    {
     "data": {
      "text/plain": [
       "\n",
       "\t\n",
       "UP = 0,64608129675651\t\n",
       "DOWN = 0,70227354089837\t\n",
       "LEFT = 0,78795341614824\t\n",
       "RIGHT = 0,60617014498052\t\n"
      ]
     },
     "execution_count": 10,
     "metadata": {},
     "output_type": "execute_result"
    },
    {
     "data": {
      "text/plain": [
       "\n",
       "\t\n",
       "UP = 29,538049734465\t\n",
       "DOWN = 31,107670269608\t\n",
       "LEFT = 36,33044585353\t\n",
       "RIGHT = 31,516645611738\t\n"
      ]
     },
     "execution_count": 10,
     "metadata": {},
     "output_type": "execute_result"
    },
    {
     "data": {
      "image/png": "[encoded data removed]",
      "text/plain": [
       "Console does not support images"
      ]
     },
     "metadata": {
      "image/png": {
       "height": 32,
       "width": 32
      }
     },
     "output_type": "display_data"
    },
    {
     "data": {
      "text/plain": [
       "\n",
       "\t\n",
       "UP = 0,00017802661295133\t\n",
       "DOWN = 0,00021345932091598\t\n",
       "LEFT = 0,00016726710010865\t\n",
       "RIGHT = 0,00017834550327458\t\n"
      ]
     },
     "execution_count": 10,
     "metadata": {},
     "output_type": "execute_result"
    },
    {
     "data": {
      "image/png": "[encoded data removed]",
      "text/plain": [
       "Console does not support images"
      ]
     },
     "metadata": {
      "image/png": {
       "height": 32,
       "width": 32
      }
     },
     "output_type": "display_data"
    },
    {
     "data": {
      "text/plain": [
       "\n",
       "\t\n",
       "UP = 0,00050398612877092\t\n",
       "DOWN = 0,00051822172793567\t\n",
       "LEFT = 0,00053449284839161\t\n",
       "RIGHT = 0,00049247635883609\t\n"
      ]
     },
     "execution_count": 10,
     "metadata": {},
     "output_type": "execute_result"
    },
    {
     "data": {
      "image/png": "[encoded data removed]",
      "text/plain": [
       "Console does not support images"
      ]
     },
     "metadata": {
      "image/png": {
       "height": 32,
       "width": 32
      }
     },
     "output_type": "display_data"
    },
    {
     "data": {
      "text/plain": [
       "\n",
       "\t\n",
       "UP = 0,00039426966851497\t\n",
       "DOWN = 0,0004364541773367\t\n",
       "LEFT = 0,00043302847610976\t\n",
       "RIGHT = 0,00041594213013966\t"
      ]
     },
     "execution_count": 10,
     "metadata": {},
     "output_type": "execute_result"
    },
    {
     "data": {
      "text/plain": [
       "\n"
      ]
     },
     "execution_count": 10,
     "metadata": {},
     "output_type": "execute_result"
    },
    {
     "data": {
      "image/png": "[encoded data removed]",
      "text/plain": [
       "Console does not support images"
      ]
     },
     "metadata": {
      "image/png": {
       "height": 32,
       "width": 32
      }
     },
     "output_type": "display_data"
    },
    {
     "data": {
      "text/plain": [
       "\n",
       "\t\n",
       "UP = 25,035331107165\t\n",
       "DOWN = 34,308855392008\t\n",
       "LEFT = 47,023816203192\t\n",
       "RIGHT = 31,332747779746\t\n"
      ]
     },
     "execution_count": 10,
     "metadata": {},
     "output_type": "execute_result"
    },
    {
     "data": {
      "image/png": "[encoded data removed]",
      "text/plain": [
       "Console does not support images"
      ]
     },
     "metadata": {
      "image/png": {
       "height": 32,
       "width": 32
      }
     },
     "output_type": "display_data"
    },
    {
     "data": {
      "image/png": "[encoded data removed]",
      "text/plain": [
       "Console does not support images"
      ]
     },
     "metadata": {
      "image/png": {
       "height": 32,
       "width": 32
      }
     },
     "output_type": "display_data"
    },
    {
     "data": {
      "text/plain": [
       "\n",
       "\t\n",
       "UP = 25,167537023243\t\n",
       "DOWN = 30,435908854692\t\n",
       "LEFT = 23,352999022157\t\n",
       "RIGHT = 38,004576165306\t\n"
      ]
     },
     "execution_count": 10,
     "metadata": {},
     "output_type": "execute_result"
    },
    {
     "data": {
      "image/png": "[encoded data removed]",
      "text/plain": [
       "Console does not support images"
      ]
     },
     "metadata": {
      "image/png": {
       "height": 32,
       "width": 32
      }
     },
     "output_type": "display_data"
    },
    {
     "data": {
      "text/plain": [
       "\n",
       "\t\n",
       "UP = 0,11764908107435\t\n",
       "DOWN = 0,10557268276333\t\n",
       "LEFT = 0,11526725942369\t\n",
       "RIGHT = 0,1199851348128\t\n"
      ]
     },
     "execution_count": 10,
     "metadata": {},
     "output_type": "execute_result"
    },
    {
     "data": {
      "image/png": "[encoded data removed]",
      "text/plain": [
       "Console does not support images"
      ]
     },
     "metadata": {
      "image/png": {
       "height": 32,
       "width": 32
      }
     },
     "output_type": "display_data"
    },
    {
     "data": {
      "text/plain": [
       "\n",
       "\t\n",
       "UP = 1,7685971692018\t\n",
       "DOWN = 6,6824863552459\t\n",
       "LEFT = 2,0908649952625\t\n",
       "RIGHT = 1,3149470404446\t\n"
      ]
     },
     "execution_count": 10,
     "metadata": {},
     "output_type": "execute_result"
    },
    {
     "data": {
      "image/png": "[encoded data removed]",
      "text/plain": [
       "Console does not support images"
      ]
     },
     "metadata": {
      "image/png": {
       "height": 32,
       "width": 32
      }
     },
     "output_type": "display_data"
    },
    {
     "data": {
      "text/plain": [
       "\n",
       "\t\n",
       "UP = 0,0005414274201562\t\n",
       "DOWN = 0,00088505667261979\t\n",
       "LEFT = 0,00054215866781009\t\n",
       "RIGHT = 0,00075268725590514\t\n"
      ]
     },
     "execution_count": 10,
     "metadata": {},
     "output_type": "execute_result"
    },
    {
     "data": {
      "image/png": "[encoded data removed]",
      "text/plain": [
       "Console does not support images"
      ]
     },
     "metadata": {
      "image/png": {
       "height": 32,
       "width": 32
      }
     },
     "output_type": "display_data"
    },
    {
     "data": {
      "text/plain": [
       "\n",
       "\t\n",
       "UP = 13,050687301892\t\n",
       "DOWN = 24,304973443762\t\n",
       "LEFT = 9,1142104323464\t\n",
       "RIGHT = 13,464336564359\t\n"
      ]
     },
     "execution_count": 10,
     "metadata": {},
     "output_type": "execute_result"
    },
    {
     "data": {
      "text/plain": [
       "\n",
       "\t\n",
       "UP = 2,1230310389157\t\n",
       "DOWN = 3,8041960441126\t\n",
       "LEFT = 2,5386771232024\t\n",
       "RIGHT = 9,0937040215412\t\n"
      ]
     },
     "execution_count": 10,
     "metadata": {},
     "output_type": "execute_result"
    },
    {
     "data": {
      "image/png": "[encoded data removed]",
      "text/plain": [
       "Console does not support images"
      ]
     },
     "metadata": {
      "image/png": {
       "height": 32,
       "width": 32
      }
     },
     "output_type": "display_data"
    },
    {
     "data": {
      "image/png": "[encoded data removed]",
      "text/plain": [
       "Console does not support images"
      ]
     },
     "metadata": {
      "image/png": {
       "height": 32,
       "width": 32
      }
     },
     "output_type": "display_data"
    },
    {
     "data": {
      "text/plain": [
       "\n",
       "\t\n",
       "UP = 0,012786541575961\t\n",
       "DOWN = 0,0054963918324114\t\n",
       "LEFT = 0,0082560139943196\t\n"
      ]
     },
     "execution_count": 10,
     "metadata": {},
     "output_type": "execute_result"
    },
    {
     "data": {
      "text/plain": [
       "RIGHT = 0,0051839285181949\t\n"
      ]
     },
     "execution_count": 10,
     "metadata": {},
     "output_type": "execute_result"
    },
    {
     "data": {
      "image/png": "[encoded data removed]",
      "text/plain": [
       "Console does not support images"
      ]
     },
     "metadata": {
      "image/png": {
       "height": 32,
       "width": 32
      }
     },
     "output_type": "display_data"
    },
    {
     "data": {
      "text/plain": [
       "\n",
       "\t\n",
       "UP = 0,0024580833382135\t\n",
       "DOWN = 0,00242662285492\t\n",
       "LEFT = 0,0029411706103055\t\n",
       "RIGHT = 0,0023110304647339\t\n"
      ]
     },
     "execution_count": 10,
     "metadata": {},
     "output_type": "execute_result"
    },
    {
     "data": {
      "image/png": "[encoded data removed]",
      "text/plain": [
       "Console does not support images"
      ]
     },
     "metadata": {
      "image/png": {
       "height": 32,
       "width": 32
      }
     },
     "output_type": "display_data"
    },
    {
     "data": {
      "text/plain": [
       "\n",
       "\t\n",
       "UP = 30,971192936633\t\n",
       "DOWN = 30,526856702062\t\n",
       "LEFT = 30,225901424926\t\n",
       "RIGHT = 34,056162628811\t\n"
      ]
     },
     "execution_count": 10,
     "metadata": {},
     "output_type": "execute_result"
    },
    {
     "data": {
      "text/plain": [
       "\n",
       "\t\n",
       "UP = 0,02127329022435\t\n",
       "DOWN = 0,02057401424091\t\n",
       "LEFT = 0,0226897193617\t\n",
       "RIGHT = 0,018885026857467\t\n"
      ]
     },
     "execution_count": 10,
     "metadata": {},
     "output_type": "execute_result"
    },
    {
     "data": {
      "image/png": "[encoded data removed]",
      "text/plain": [
       "Console does not support images"
      ]
     },
     "metadata": {
      "image/png": {
       "height": 32,
       "width": 32
      }
     },
     "output_type": "display_data"
    },
    {
     "data": {
      "image/png": "[encoded data removed]",
      "text/plain": [
       "Console does not support images"
      ]
     },
     "metadata": {
      "image/png": {
       "height": 32,
       "width": 32
      }
     },
     "output_type": "display_data"
    },
    {
     "data": {
      "text/plain": [
       "\n",
       "\t\n",
       "UP = 0,00034389964733441\t\n",
       "DOWN = 0,00029088014857501\t\n",
       "LEFT = 0,00036335531703781\t\n",
       "RIGHT = 0,00032112696443294\t\n"
      ]
     },
     "execution_count": 10,
     "metadata": {},
     "output_type": "execute_result"
    },
    {
     "data": {
      "text/plain": [
       "\n",
       "\t\n",
       "UP = 62,330029337439\t\n",
       "DOWN = 66,342043128906\t\n",
       "LEFT = 59,631027026158\t\n",
       "RIGHT = 61,669847415679\t\n"
      ]
     },
     "execution_count": 10,
     "metadata": {},
     "output_type": "execute_result"
    },
    {
     "data": {
      "image/png": "[encoded data removed]",
      "text/plain": [
       "Console does not support images"
      ]
     },
     "metadata": {
      "image/png": {
       "height": 32,
       "width": 32
      }
     },
     "output_type": "display_data"
    },
    {
     "data": {
      "image/png": "[encoded data removed]",
      "text/plain": [
       "Console does not support images"
      ]
     },
     "metadata": {
      "image/png": {
       "height": 32,
       "width": 32
      }
     },
     "output_type": "display_data"
    },
    {
     "data": {
      "text/plain": [
       "\n",
       "\t\n",
       "UP = 32,680444562548\t\n",
       "DOWN = 35,848592240854\t\n",
       "LEFT = 31,911711934744\t\n",
       "RIGHT = 33,11707301373\t\n"
      ]
     },
     "execution_count": 10,
     "metadata": {},
     "output_type": "execute_result"
    },
    {
     "data": {
      "image/png": "[encoded data removed]",
      "text/plain": [
       "Console does not support images"
      ]
     },
     "metadata": {
      "image/png": {
       "height": 32,
       "width": 32
      }
     },
     "output_type": "display_data"
    },
    {
     "data": {
      "text/plain": [
       "\n",
       "\t\n",
       "UP = 4,9989033704072\t\n",
       "DOWN = 7,1415003021058\t\n",
       "LEFT = 4,2004326424938\t\n",
       "RIGHT = 11,123810695308\t\n"
      ]
     },
     "execution_count": 10,
     "metadata": {},
     "output_type": "execute_result"
    },
    {
     "data": {
      "image/png": "[encoded data removed]",
      "text/plain": [
       "Console does not support images"
      ]
     },
     "metadata": {
      "image/png": {
       "height": 32,
       "width": 32
      }
     },
     "output_type": "display_data"
    },
    {
     "data": {
      "text/plain": [
       "\n",
       "\t\n",
       "UP = 28,228384957521\t\n",
       "DOWN = 27,900009938802\t\n",
       "LEFT = 32,628849022169\t\n",
       "RIGHT = 27,064203084139\t\n"
      ]
     },
     "execution_count": 10,
     "metadata": {},
     "output_type": "execute_result"
    },
    {
     "data": {
      "text/plain": [
       "\n",
       "\t\n",
       "UP = 62,916994786191\t\n",
       "DOWN = 63,336587566594\t\n",
       "LEFT = 68,609409637278\t\n",
       "RIGHT = 63,639885928369\t\n"
      ]
     },
     "execution_count": 10,
     "metadata": {},
     "output_type": "execute_result"
    },
    {
     "data": {
      "image/png": "[encoded data removed]",
      "text/plain": [
       "Console does not support images"
      ]
     },
     "metadata": {
      "image/png": {
       "height": 32,
       "width": 32
      }
     },
     "output_type": "display_data"
    },
    {
     "data": {
      "image/png": "[encoded data removed]",
      "text/plain": [
       "Console does not support images"
      ]
     },
     "metadata": {
      "image/png": {
       "height": 32,
       "width": 32
      }
     },
     "output_type": "display_data"
    },
    {
     "data": {
      "text/plain": [
       "\n",
       "\t\n",
       "UP = 55,223065431842\t\n",
       "DOWN = 40,672821928655\t\n",
       "LEFT = 38,486042497385\t\n",
       "RIGHT = 41,591874353713\t\n"
      ]
     },
     "execution_count": 10,
     "metadata": {},
     "output_type": "execute_result"
    },
    {
     "data": {
      "image/png": "[encoded data removed]",
      "text/plain": [
       "Console does not support images"
      ]
     },
     "metadata": {
      "image/png": {
       "height": 32,
       "width": 32
      }
     },
     "output_type": "display_data"
    },
    {
     "data": {
      "text/plain": [
       "\n",
       "\t\n",
       "UP = 19,353942455102\t\n",
       "DOWN = 19,346425695409\t\n",
       "LEFT = 23,445903653711\t\n",
       "RIGHT = 18,239397100873\t\n"
      ]
     },
     "execution_count": 10,
     "metadata": {},
     "output_type": "execute_result"
    },
    {
     "data": {
      "image/png": "[encoded data removed]",
      "text/plain": [
       "Console does not support images"
      ]
     },
     "metadata": {
      "image/png": {
       "height": 32,
       "width": 32
      }
     },
     "output_type": "display_data"
    },
    {
     "data": {
      "text/plain": [
       "\n",
       "\t\n",
       "UP = 34,919567983081\t\n",
       "DOWN = 34,396614258988\t\n",
       "LEFT = 34,26033829742\t\n",
       "RIGHT = 37,73536025353\t\n"
      ]
     },
     "execution_count": 10,
     "metadata": {},
     "output_type": "execute_result"
    },
    {
     "data": {
      "image/png": "[encoded data removed]",
      "text/plain": [
       "Console does not support images"
      ]
     },
     "metadata": {
      "image/png": {
       "height": 32,
       "width": 32
      }
     },
     "output_type": "display_data"
    },
    {
     "data": {
      "text/plain": [
       "\n",
       "\t\n",
       "UP = 0,00030795789867926\t\n",
       "DOWN = 0,00036628459789507\t\n",
       "LEFT = 0,0004168593336438\t\n",
       "RIGHT = 0,0002959253225023\t\n"
      ]
     },
     "execution_count": 10,
     "metadata": {},
     "output_type": "execute_result"
    },
    {
     "data": {
      "image/png": "[encoded data removed]",
      "text/plain": [
       "Console does not support images"
      ]
     },
     "metadata": {
      "image/png": {
       "height": 32,
       "width": 32
      }
     },
     "output_type": "display_data"
    },
    {
     "data": {
      "text/plain": [
       "\n",
       "\t\n",
       "UP = 0,012534906756456\t\n",
       "DOWN = 0,027092527167046\t\n",
       "LEFT = 0,01339543357692\t\n",
       "RIGHT = 0,027291818730927\t\n"
      ]
     },
     "execution_count": 10,
     "metadata": {},
     "output_type": "execute_result"
    },
    {
     "data": {
      "image/png": "[encoded data removed]",
      "text/plain": [
       "Console does not support images"
      ]
     },
     "metadata": {
      "image/png": {
       "height": 32,
       "width": 32
      }
     },
     "output_type": "display_data"
    },
    {
     "data": {
      "text/plain": [
       "\n",
       "\t\n",
       "UP = 7,424809135469\t\n",
       "DOWN = 9,5999157248707\t\n",
       "LEFT = 5,3263621069603\t\n",
       "RIGHT = 15,314356576272\t\n"
      ]
     },
     "execution_count": 10,
     "metadata": {},
     "output_type": "execute_result"
    },
    {
     "data": {
      "image/png": "[encoded data removed]",
      "text/plain": [
       "Console does not support images"
      ]
     },
     "metadata": {
      "image/png": {
       "height": 32,
       "width": 32
      }
     },
     "output_type": "display_data"
    },
    {
     "data": {
      "text/plain": [
       "\n",
       "\t\n",
       "UP = 2,9449869609256\t\n",
       "DOWN = 3,7088851655158\t\n",
       "LEFT = 4,865531609588\t\n",
       "RIGHT = 2,4242591116334\t\n"
      ]
     },
     "execution_count": 10,
     "metadata": {},
     "output_type": "execute_result"
    },
    {
     "data": {
      "image/png": "[encoded data removed]",
      "text/plain": [
       "Console does not support images"
      ]
     },
     "metadata": {
      "image/png": {
       "height": 32,
       "width": 32
      }
     },
     "output_type": "display_data"
    },
    {
     "data": {
      "text/plain": [
       "\n",
       "\t\n",
       "UP = 26,209356013113\t\n",
       "DOWN = 29,198902433877\t\n",
       "LEFT = 25,163687609537\t\n"
      ]
     },
     "execution_count": 10,
     "metadata": {},
     "output_type": "execute_result"
    },
    {
     "data": {
      "text/plain": [
       "RIGHT = 26,994125081784\t\n"
      ]
     },
     "execution_count": 10,
     "metadata": {},
     "output_type": "execute_result"
    },
    {
     "data": {
      "text/plain": [
       "\n",
       "\t\n",
       "UP = 50,456403961535\t\n",
       "DOWN = 54,036008766263\t\n",
       "LEFT = 49,895903044181\t\n",
       "RIGHT = 48,5589740277\t\n"
      ]
     },
     "execution_count": 10,
     "metadata": {},
     "output_type": "execute_result"
    },
    {
     "data": {
      "image/png": "[encoded data removed]",
      "text/plain": [
       "Console does not support images"
      ]
     },
     "metadata": {
      "image/png": {
       "height": 32,
       "width": 32
      }
     },
     "output_type": "display_data"
    },
    {
     "data": {
      "text/plain": [
       "\n",
       "\t\n",
       "UP = 1,3770861364917\t\n",
       "DOWN = 1,3020443633916\t\n",
       "LEFT = 1,7514587220892\t\n",
       "RIGHT = 1,2515145209264\t\n"
      ]
     },
     "execution_count": 10,
     "metadata": {},
     "output_type": "execute_result"
    },
    {
     "data": {
      "image/png": "[encoded data removed]",
      "text/plain": [
       "Console does not support images"
      ]
     },
     "metadata": {
      "image/png": {
       "height": 32,
       "width": 32
      }
     },
     "output_type": "display_data"
    },
    {
     "data": {
      "image/png": "[encoded data removed]",
      "text/plain": [
       "Console does not support images"
      ]
     },
     "metadata": {
      "image/png": {
       "height": 32,
       "width": 32
      }
     },
     "output_type": "display_data"
    },
    {
     "data": {
      "text/plain": [
       "\n",
       "\t\n",
       "UP = 0,00012084372670299\t\n",
       "DOWN = 0,00014228787415236\t\n",
       "LEFT = 0,00013424302801454\t\n",
       "RIGHT = 0,00015043093577599\t\n"
      ]
     },
     "execution_count": 10,
     "metadata": {},
     "output_type": "execute_result"
    },
    {
     "data": {
      "image/png": "[encoded data removed]",
      "text/plain": [
       "Console does not support images"
      ]
     },
     "metadata": {
      "image/png": {
       "height": 32,
       "width": 32
      }
     },
     "output_type": "display_data"
    },
    {
     "data": {
      "text/plain": [
       "\n",
       "\t\n",
       "UP = 0\t\n",
       "DOWN = 0\t\n",
       "LEFT = 0\t\n",
       "RIGHT = 0\t\n"
      ]
     },
     "execution_count": 10,
     "metadata": {},
     "output_type": "execute_result"
    },
    {
     "data": {
      "image/png": "[encoded data removed]",
      "text/plain": [
       "Console does not support images"
      ]
     },
     "metadata": {
      "image/png": {
       "height": 32,
       "width": 32
      }
     },
     "output_type": "display_data"
    },
    {
     "data": {
      "text/plain": [
       "\n",
       "\t\n",
       "UP = 5,8781045277886\t\n",
       "DOWN = 5,6476571229225\t\n",
       "LEFT = 11,80144222457\t\n",
       "RIGHT = 7,6518884839396\t\n"
      ]
     },
     "execution_count": 10,
     "metadata": {},
     "output_type": "execute_result"
    },
    {
     "data": {
      "image/png": "[encoded data removed]",
      "text/plain": [
       "Console does not support images"
      ]
     },
     "metadata": {
      "image/png": {
       "height": 32,
       "width": 32
      }
     },
     "output_type": "display_data"
    },
    {
     "data": {
      "text/plain": [
       "\n",
       "\t\n",
       "UP = 0,010594574155399\t\n",
       "DOWN = 0,015248493117584\t\n",
       "LEFT = 0,016439724510366\t\n",
       "RIGHT = 0,013164988614208\t\n"
      ]
     },
     "execution_count": 10,
     "metadata": {},
     "output_type": "execute_result"
    },
    {
     "data": {
      "image/png": "[encoded data removed]",
      "text/plain": [
       "Console does not support images"
      ]
     },
     "metadata": {
      "image/png": {
       "height": 32,
       "width": 32
      }
     },
     "output_type": "display_data"
    },
    {
     "data": {
      "text/plain": [
       "\n",
       "\t\n",
       "UP = 0,00034496340790603\t\n",
       "DOWN = 0,00034583546344323\t\n",
       "LEFT = 0,00027305175339849\t\n",
       "RIGHT = 0,00031563162766292\t\n"
      ]
     },
     "execution_count": 10,
     "metadata": {},
     "output_type": "execute_result"
    },
    {
     "data": {
      "image/png": "[encoded data removed]",
      "text/plain": [
       "Console does not support images"
      ]
     },
     "metadata": {
      "image/png": {
       "height": 32,
       "width": 32
      }
     },
     "output_type": "display_data"
    },
    {
     "data": {
      "text/plain": [
       "\n",
       "\t\n",
       "UP = 0,00053268101004968\t\n",
       "DOWN = 0,00044660903079864\t\n",
       "LEFT = 0,00047836194556046\t\n",
       "RIGHT = 0,0004246055174668\t\n"
      ]
     },
     "execution_count": 10,
     "metadata": {},
     "output_type": "execute_result"
    },
    {
     "data": {
      "image/png": "[encoded data removed]",
      "text/plain": [
       "Console does not support images"
      ]
     },
     "metadata": {
      "image/png": {
       "height": 32,
       "width": 32
      }
     },
     "output_type": "display_data"
    },
    {
     "data": {
      "text/plain": [
       "\n",
       "\t\n",
       "UP = 6,6889112798539\t\n",
       "DOWN = 6,8538482087238\t\n",
       "LEFT = 8,2125635205174\t\n",
       "RIGHT = 7,2931208654271\t\n"
      ]
     },
     "execution_count": 10,
     "metadata": {},
     "output_type": "execute_result"
    },
    {
     "data": {
      "text/plain": [
       "\n",
       "\t\n",
       "UP = 0,0025412519895157\t\n",
       "DOWN = 0,0024669816342101\t\n",
       "LEFT = 0,002782818887629\t\n",
       "RIGHT = 0,0026874359118832\t\n"
      ]
     },
     "execution_count": 10,
     "metadata": {},
     "output_type": "execute_result"
    },
    {
     "data": {
      "image/png": "[encoded data removed]",
      "text/plain": [
       "Console does not support images"
      ]
     },
     "metadata": {
      "image/png": {
       "height": 32,
       "width": 32
      }
     },
     "output_type": "display_data"
    },
    {
     "data": {
      "text/plain": [
       "\n",
       "\t\n",
       "UP = 97,653004385245\t\n",
       "DOWN = 100\t\n",
       "LEFT = 93,853845238082\t\n",
       "RIGHT = 92,52608515315\t\n"
      ]
     },
     "execution_count": 10,
     "metadata": {},
     "output_type": "execute_result"
    },
    {
     "data": {
      "image/png": "[encoded data removed]",
      "text/plain": [
       "Console does not support images"
      ]
     },
     "metadata": {
      "image/png": {
       "height": 32,
       "width": 32
      }
     },
     "output_type": "display_data"
    },
    {
     "data": {
      "image/png": "[encoded data removed]",
      "text/plain": [
       "Console does not support images"
      ]
     },
     "metadata": {
      "image/png": {
       "height": 32,
       "width": 32
      }
     },
     "output_type": "display_data"
    },
    {
     "data": {
      "text/plain": [
       "\n",
       "\t\n",
       "UP = 0,0010021319195432\t\n",
       "DOWN = 0,00079364199967248\t\n",
       "LEFT = 0,0020412151419691\t\n",
       "RIGHT = 0,00087717785324497\t\n"
      ]
     },
     "execution_count": 10,
     "metadata": {},
     "output_type": "execute_result"
    },
    {
     "data": {
      "image/png": "[encoded data removed]",
      "text/plain": [
       "Console does not support images"
      ]
     },
     "metadata": {
      "image/png": {
       "height": 32,
       "width": 32
      }
     },
     "output_type": "display_data"
    },
    {
     "data": {
      "text/plain": [
       "\n",
       "\t\n",
       "UP = 0,087228820039197\t\n",
       "DOWN = 0,073500202093052\t\n",
       "LEFT = 0,13291536030053\t\n",
       "RIGHT = 0,10738158066508\t\n"
      ]
     },
     "execution_count": 10,
     "metadata": {},
     "output_type": "execute_result"
    },
    {
     "data": {
      "image/png": "[encoded data removed]",
      "text/plain": [
       "Console does not support images"
      ]
     },
     "metadata": {
      "image/png": {
       "height": 32,
       "width": 32
      }
     },
     "output_type": "display_data"
    },
    {
     "data": {
      "text/plain": [
       "\n",
       "\t\n",
       "UP = 0,00034736233058373\t\n",
       "DOWN = 0,00054952599542729\t\n",
       "LEFT = 0,00071507049406137\t"
      ]
     },
     "execution_count": 10,
     "metadata": {},
     "output_type": "execute_result"
    },
    {
     "data": {
      "text/plain": [
       "\n",
       "RIGHT = 0,00048811487242444\t\n"
      ]
     },
     "execution_count": 10,
     "metadata": {},
     "output_type": "execute_result"
    },
    {
     "data": {
      "image/png": "[encoded data removed]",
      "text/plain": [
       "Console does not support images"
      ]
     },
     "metadata": {
      "image/png": {
       "height": 32,
       "width": 32
      }
     },
     "output_type": "display_data"
    },
    {
     "data": {
      "text/plain": [
       "\n",
       "\t\n",
       "\n"
      ]
     },
     "execution_count": 10,
     "metadata": {},
     "output_type": "execute_result"
    }
   ],
   "source": [
    "dofile(\"1_data_hanoi.lua\")"
   ]
  },
  {
   "cell_type": "code",
   "execution_count": null,
   "metadata": {
    "collapsed": true
   },
   "outputs": [],
   "source": []
  },
  {
   "cell_type": "code",
   "execution_count": 15,
   "metadata": {
    "collapsed": false
   },
   "outputs": [
    {
     "data": {
      "image/png": "[encoded data removed]",
      "text/plain": [
       "Console does not support images"
      ]
     },
     "metadata": {
      "image/png": {
       "height": 32,
       "width": 32
      }
     },
     "output_type": "display_data"
    },
    {
     "data": {
      "text/plain": [
       "UP = 0,61969041483686\t\n",
       "DOWN = 0,64060042015971\t\n",
       "LEFT = 0,68813814754872\t\n",
       "RIGHT = 0,64389833470759\t\n"
      ]
     },
     "execution_count": 15,
     "metadata": {},
     "output_type": "execute_result"
    },
    {
     "ename": "[string \"loaded = torch.load(\"dataset32x32.t7\")...\"]:10: attempt to call global 'wait' (a nil value)\nstack traceback:\n\t[string \"loaded = torch.load(\"dataset32x32.t7\")...\"]:10: in main chunk\n\t[C]: in function 'xpcall'\n\t/home/flori/torch/install/share/lua/5.1/itorch/main.lua:177: in function </home/flori/torch/install/share/lua/5.1/itorch/main.lua:143>\n\t/home/flori/torch/install/share/lua/5.1/lzmq/poller.lua:75: in function 'poll'\n\t/home/flori/torch/install/share/lua/5.1/lzmq/impl/loop.lua:307: in function 'poll'\n\t/home/flori/torch/install/share/lua/5.1/lzmq/impl/loop.lua:325: in function 'sleep_ex'\n\t/home/flori/torch/install/share/lua/5.1/lzmq/impl/loop.lua:370: in function 'start'\n\t/home/flori/torch/install/share/lua/5.1/itorch/main.lua:344: in main chunk\n\t[C]: in function 'require'\n\t[string \"arg={'/home/flori/.ipython/profile_default/se...\"]:1: in main chunk",
     "evalue": "",
     "output_type": "error",
     "traceback": [
      "[string \"loaded = torch.load(\"dataset32x32.t7\")...\"]:10: attempt to call global 'wait' (a nil value)\nstack traceback:\n\t[string \"loaded = torch.load(\"dataset32x32.t7\")...\"]:10: in main chunk\n\t[C]: in function 'xpcall'\n\t/home/flori/torch/install/share/lua/5.1/itorch/main.lua:177: in function </home/flori/torch/install/share/lua/5.1/itorch/main.lua:143>\n\t/home/flori/torch/install/share/lua/5.1/lzmq/poller.lua:75: in function 'poll'\n\t/home/flori/torch/install/share/lua/5.1/lzmq/impl/loop.lua:307: in function 'poll'\n\t/home/flori/torch/install/share/lua/5.1/lzmq/impl/loop.lua:325: in function 'sleep_ex'\n\t/home/flori/torch/install/share/lua/5.1/lzmq/impl/loop.lua:370: in function 'start'\n\t/home/flori/torch/install/share/lua/5.1/itorch/main.lua:344: in main chunk\n\t[C]: in function 'require'\n\t[string \"arg={'/home/flori/.ipython/profile_default/se...\"]:1: in main chunk"
     ]
    }
   ],
   "source": [
    "require 'os'\n",
    "loaded = torch.load(\"dataset32x32.t7\")\n",
    "for i = 1, loaded.y:size()[2] do\n",
    "    ld = loaded.X:transpose(3,4)\n",
    "    img = ld[i]\n",
    "    itorch.image(img)\n",
    "    print(\"UP = \"..loaded.y[1][i][1])\n",
    "    print(\"DOWN = \"..loaded.y[1][i][2])\n",
    "    print(\"LEFT = \"..loaded.y[1][i][3])\n",
    "    print(\"RIGHT = \"..loaded.y[1][i][4])\n",
    "    wait(0.1)\n",
    "end"
   ]
  },
  {
   "cell_type": "code",
   "execution_count": null,
   "metadata": {
    "collapsed": true
   },
   "outputs": [],
   "source": []
  }
 ],
 "metadata": {
  "kernelspec": {
   "display_name": "iTorch",
   "language": "lua",
   "name": "itorch"
  },
  "language_info": {
   "name": "lua",
   "version": "20100"
  }
 },
 "nbformat": 4,
 "nbformat_minor": 0
}
